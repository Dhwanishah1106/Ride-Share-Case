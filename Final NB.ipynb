{
 "cells": [
  {
   "cell_type": "markdown",
   "id": "78aca0c0",
   "metadata": {},
   "source": [
    "# Ride Share Code & Analysis"
   ]
  },
  {
   "cell_type": "code",
   "execution_count": 2,
   "id": "cac85f74",
   "metadata": {},
   "outputs": [],
   "source": [
    "import pandas as pd\n",
    "import re\n",
    "import math\n",
    "import matplotlib.pyplot as plt\n",
    "import numpy as np"
   ]
  },
  {
   "cell_type": "markdown",
   "id": "c6ff4115",
   "metadata": {},
   "source": [
    "Ride share data CSV "
   ]
  },
  {
   "cell_type": "code",
   "execution_count": 3,
   "id": "ece05c49",
   "metadata": {},
   "outputs": [],
   "source": [
    "df = pd.read_csv(r\"C:\\RideShare_Data\\rideshare_data.csv\")"
   ]
  },
  {
   "cell_type": "code",
   "execution_count": 5,
   "id": "75a4fc09",
   "metadata": {},
   "outputs": [
    {
     "data": {
      "text/html": [
       "<div>\n",
       "<style scoped>\n",
       "    .dataframe tbody tr th:only-of-type {\n",
       "        vertical-align: middle;\n",
       "    }\n",
       "\n",
       "    .dataframe tbody tr th {\n",
       "        vertical-align: top;\n",
       "    }\n",
       "\n",
       "    .dataframe thead th {\n",
       "        text-align: right;\n",
       "    }\n",
       "</style>\n",
       "<table border=\"1\" class=\"dataframe\">\n",
       "  <thead>\n",
       "    <tr style=\"text-align: right;\">\n",
       "      <th></th>\n",
       "      <th>ORDER_ID</th>\n",
       "      <th>USER_ID</th>\n",
       "      <th>ITEM_ID</th>\n",
       "      <th>MERCHANT_NAME</th>\n",
       "      <th>ORDER_DATE</th>\n",
       "      <th>ORDER_TOTAL</th>\n",
       "      <th>DESCRIPTION</th>\n",
       "      <th>TAXI_TYPE</th>\n",
       "      <th>TAXI_RIDE_DISTANCE_UNIT</th>\n",
       "      <th>TAXI_RIDE_DISTANCE</th>\n",
       "      <th>TAXI_RIDE_TIME</th>\n",
       "      <th>TAXI_FARE_TYPE</th>\n",
       "      <th>TAXI_PICKUP_CITY</th>\n",
       "      <th>TAXI_PICKUP_STATE</th>\n",
       "    </tr>\n",
       "  </thead>\n",
       "  <tbody>\n",
       "    <tr>\n",
       "      <th>0</th>\n",
       "      <td>594d35b6-a15c-3446-a271-99dc0e4f8595</td>\n",
       "      <td>c913e80c-551a-3311-aa62-826d2ac585a9</td>\n",
       "      <td>69211280-faaa-3ba1-a046-a9c1820ade87</td>\n",
       "      <td>Uber</td>\n",
       "      <td>2019-09-28</td>\n",
       "      <td>13.87</td>\n",
       "      <td>Fare for Uber</td>\n",
       "      <td>UberX</td>\n",
       "      <td>mi</td>\n",
       "      <td>7.68</td>\n",
       "      <td>00:19:00</td>\n",
       "      <td>NaN</td>\n",
       "      <td>San Diego</td>\n",
       "      <td>CA</td>\n",
       "    </tr>\n",
       "    <tr>\n",
       "      <th>1</th>\n",
       "      <td>efd72404-b02f-3b4b-b60e-31143e398461</td>\n",
       "      <td>31f6474b-49d0-3ec6-9d61-0b1e12af9882</td>\n",
       "      <td>c9619d67-f961-36b9-ac83-d3ead01e00eb</td>\n",
       "      <td>Lyft</td>\n",
       "      <td>2020-10-22</td>\n",
       "      <td>8.60</td>\n",
       "      <td>Fare for Lyft</td>\n",
       "      <td>NaN</td>\n",
       "      <td>mi</td>\n",
       "      <td>2.91</td>\n",
       "      <td>00:08:09</td>\n",
       "      <td>NaN</td>\n",
       "      <td>Nashville-Davidson metropolitan government (ba...</td>\n",
       "      <td>TN</td>\n",
       "    </tr>\n",
       "    <tr>\n",
       "      <th>2</th>\n",
       "      <td>f07bb248-5f41-3b99-9529-839730a91df4</td>\n",
       "      <td>bd9b6bca-fabc-33a0-9088-8d6c137c4d97</td>\n",
       "      <td>12001593-310d-3d61-b3a3-9bf0ba2af3bd</td>\n",
       "      <td>Uber</td>\n",
       "      <td>2020-10-29</td>\n",
       "      <td>10.44</td>\n",
       "      <td>Fare for Uber</td>\n",
       "      <td>UberX</td>\n",
       "      <td>miles</td>\n",
       "      <td>1.36</td>\n",
       "      <td>00:05:00</td>\n",
       "      <td>NaN</td>\n",
       "      <td>Patton Township</td>\n",
       "      <td>PA</td>\n",
       "    </tr>\n",
       "    <tr>\n",
       "      <th>3</th>\n",
       "      <td>04f7a692-8d49-37d1-b860-99694c06c642</td>\n",
       "      <td>7f949e51-575f-3ea3-9ab3-409faec2fe65</td>\n",
       "      <td>b6f56fc8-d830-37c5-b60b-c3acbca2d9e9</td>\n",
       "      <td>Lyft</td>\n",
       "      <td>2019-08-20</td>\n",
       "      <td>0.00</td>\n",
       "      <td>Fare for Lyft</td>\n",
       "      <td>NaN</td>\n",
       "      <td>mi</td>\n",
       "      <td>4.06</td>\n",
       "      <td>00:26:45</td>\n",
       "      <td>NaN</td>\n",
       "      <td>Seattle</td>\n",
       "      <td>WA</td>\n",
       "    </tr>\n",
       "    <tr>\n",
       "      <th>4</th>\n",
       "      <td>4595ec34-4af1-3743-8b01-e437a7212091</td>\n",
       "      <td>bce7f327-0b99-358f-a63a-d7774c3208ab</td>\n",
       "      <td>e1c11bd3-0982-3589-b79a-6efe86e6f9c9</td>\n",
       "      <td>Lyft</td>\n",
       "      <td>2020-03-17</td>\n",
       "      <td>11.72</td>\n",
       "      <td>Fare for Lyft</td>\n",
       "      <td>Lyft Prebook</td>\n",
       "      <td>mi</td>\n",
       "      <td>8.45</td>\n",
       "      <td>00:13:01</td>\n",
       "      <td>NaN</td>\n",
       "      <td>Wyoming</td>\n",
       "      <td>MI</td>\n",
       "    </tr>\n",
       "  </tbody>\n",
       "</table>\n",
       "</div>"
      ],
      "text/plain": [
       "                               ORDER_ID                               USER_ID  \\\n",
       "0  594d35b6-a15c-3446-a271-99dc0e4f8595  c913e80c-551a-3311-aa62-826d2ac585a9   \n",
       "1  efd72404-b02f-3b4b-b60e-31143e398461  31f6474b-49d0-3ec6-9d61-0b1e12af9882   \n",
       "2  f07bb248-5f41-3b99-9529-839730a91df4  bd9b6bca-fabc-33a0-9088-8d6c137c4d97   \n",
       "3  04f7a692-8d49-37d1-b860-99694c06c642  7f949e51-575f-3ea3-9ab3-409faec2fe65   \n",
       "4  4595ec34-4af1-3743-8b01-e437a7212091  bce7f327-0b99-358f-a63a-d7774c3208ab   \n",
       "\n",
       "                                ITEM_ID MERCHANT_NAME  ORDER_DATE  \\\n",
       "0  69211280-faaa-3ba1-a046-a9c1820ade87          Uber  2019-09-28   \n",
       "1  c9619d67-f961-36b9-ac83-d3ead01e00eb          Lyft  2020-10-22   \n",
       "2  12001593-310d-3d61-b3a3-9bf0ba2af3bd          Uber  2020-10-29   \n",
       "3  b6f56fc8-d830-37c5-b60b-c3acbca2d9e9          Lyft  2019-08-20   \n",
       "4  e1c11bd3-0982-3589-b79a-6efe86e6f9c9          Lyft  2020-03-17   \n",
       "\n",
       "   ORDER_TOTAL    DESCRIPTION     TAXI_TYPE TAXI_RIDE_DISTANCE_UNIT  \\\n",
       "0        13.87  Fare for Uber         UberX                      mi   \n",
       "1         8.60  Fare for Lyft           NaN                      mi   \n",
       "2        10.44  Fare for Uber         UberX                   miles   \n",
       "3         0.00  Fare for Lyft           NaN                      mi   \n",
       "4        11.72  Fare for Lyft  Lyft Prebook                      mi   \n",
       "\n",
       "   TAXI_RIDE_DISTANCE TAXI_RIDE_TIME TAXI_FARE_TYPE  \\\n",
       "0                7.68       00:19:00            NaN   \n",
       "1                2.91       00:08:09            NaN   \n",
       "2                1.36       00:05:00            NaN   \n",
       "3                4.06       00:26:45            NaN   \n",
       "4                8.45       00:13:01            NaN   \n",
       "\n",
       "                                    TAXI_PICKUP_CITY TAXI_PICKUP_STATE  \n",
       "0                                          San Diego                CA  \n",
       "1  Nashville-Davidson metropolitan government (ba...                TN  \n",
       "2                                    Patton Township                PA  \n",
       "3                                            Seattle                WA  \n",
       "4                                            Wyoming                MI  "
      ]
     },
     "execution_count": 5,
     "metadata": {},
     "output_type": "execute_result"
    }
   ],
   "source": [
    "df.head()"
   ]
  },
  {
   "cell_type": "code",
   "execution_count": 6,
   "id": "a5ec596e",
   "metadata": {},
   "outputs": [
    {
     "data": {
      "text/plain": [
       "(21078051, 14)"
      ]
     },
     "execution_count": 6,
     "metadata": {},
     "output_type": "execute_result"
    }
   ],
   "source": [
    "df.shape"
   ]
  },
  {
   "cell_type": "markdown",
   "id": "53220471",
   "metadata": {},
   "source": [
    "## Data cleaning and preprocessing"
   ]
  },
  {
   "cell_type": "markdown",
   "id": "b072c928",
   "metadata": {},
   "source": [
    "Dropping the following columns:\n",
    "\n",
    "1. Order ID and User ID: Not needed as Item ID can act as the unique identifier\n",
    "2. Description: Not relevant to task in hand\n",
    "3. Taxi type, Taxi fare type: Not relevant to task in hand\n",
    "4. Taxi Pickup City dropped"
   ]
  },
  {
   "cell_type": "code",
   "execution_count": 4,
   "id": "b475cca4",
   "metadata": {},
   "outputs": [],
   "source": [
    "df = df.drop(['ORDER_ID','USER_ID'],axis=1)"
   ]
  },
  {
   "cell_type": "code",
   "execution_count": 5,
   "id": "4e470f8f",
   "metadata": {},
   "outputs": [],
   "source": [
    "df = df.drop(['DESCRIPTION','TAXI_TYPE','TAXI_FARE_TYPE'],axis=1)"
   ]
  },
  {
   "cell_type": "code",
   "execution_count": 6,
   "id": "9dbf3e5a",
   "metadata": {},
   "outputs": [],
   "source": [
    "df = df.drop(['TAXI_PICKUP_CITY'],axis=1)"
   ]
  },
  {
   "cell_type": "code",
   "execution_count": 10,
   "id": "19678cd1",
   "metadata": {},
   "outputs": [
    {
     "data": {
      "text/plain": [
       "21078051"
      ]
     },
     "execution_count": 10,
     "metadata": {},
     "output_type": "execute_result"
    }
   ],
   "source": [
    "len(df['ITEM_ID'].unique())"
   ]
  },
  {
   "cell_type": "markdown",
   "id": "61207c65",
   "metadata": {},
   "source": [
    "So we can use item id as our row identifier as unique item ids == no. of rows"
   ]
  },
  {
   "cell_type": "markdown",
   "id": "5c474779",
   "metadata": {},
   "source": [
    "There are a lot of observations of State California, therefore fill NaN values with CA (2-letter code State Name followed for all the datasets )"
   ]
  },
  {
   "cell_type": "code",
   "execution_count": 7,
   "id": "44a1781e",
   "metadata": {},
   "outputs": [],
   "source": [
    "df['TAXI_PICKUP_STATE'].fillna('CA',inplace=True)"
   ]
  },
  {
   "cell_type": "markdown",
   "id": "99e62155",
   "metadata": {},
   "source": [
    "Checked for number of observations for some different words in the State column that cannot be identified as any known State"
   ]
  },
  {
   "cell_type": "markdown",
   "id": "b41a4fdc",
   "metadata": {},
   "source": [
    "For example, Ste B-1299, Kalifornien, SF, etc."
   ]
  },
  {
   "cell_type": "markdown",
   "id": "db27f8e0",
   "metadata": {},
   "source": [
    "There were less than 100 observations with these unknown state names"
   ]
  },
  {
   "cell_type": "code",
   "execution_count": 12,
   "id": "94c8f893",
   "metadata": {},
   "outputs": [
    {
     "data": {
      "text/plain": [
       "(1, 8)"
      ]
     },
     "execution_count": 12,
     "metadata": {},
     "output_type": "execute_result"
    }
   ],
   "source": [
    "df[df['TAXI_PICKUP_STATE'] == 'Ste B-1299'].shape"
   ]
  },
  {
   "cell_type": "code",
   "execution_count": 13,
   "id": "46713b67",
   "metadata": {},
   "outputs": [
    {
     "data": {
      "text/plain": [
       "['AK',\n",
       " 'AL',\n",
       " 'AR',\n",
       " 'AZ',\n",
       " 'Alabama',\n",
       " 'Alaska',\n",
       " 'Arizona',\n",
       " 'Arkansas',\n",
       " 'CA',\n",
       " 'CO',\n",
       " 'CONNECTICUT',\n",
       " 'CT',\n",
       " 'California',\n",
       " 'Californie',\n",
       " 'Co',\n",
       " 'Colorado',\n",
       " 'Connecticut',\n",
       " 'Ct',\n",
       " 'DC',\n",
       " 'DE',\n",
       " 'Delaware',\n",
       " 'District of Columbia',\n",
       " 'FL',\n",
       " 'FL FL',\n",
       " 'Florida',\n",
       " 'Floride',\n",
       " 'GA',\n",
       " 'Georgia',\n",
       " 'HAWAII',\n",
       " 'HI',\n",
       " 'Hawaii',\n",
       " 'IA',\n",
       " 'ID',\n",
       " 'IL',\n",
       " 'IN',\n",
       " 'Idaho',\n",
       " 'Il',\n",
       " 'Illinois',\n",
       " 'Indiana',\n",
       " 'Iowa',\n",
       " 'KS',\n",
       " 'KY',\n",
       " 'Kalifornien',\n",
       " 'Kansas',\n",
       " 'Kentucky',\n",
       " 'LA',\n",
       " 'Louisiana',\n",
       " 'MA',\n",
       " 'MD',\n",
       " 'ME',\n",
       " 'MI',\n",
       " 'MN',\n",
       " 'MO',\n",
       " 'MS',\n",
       " 'MT',\n",
       " 'Maine',\n",
       " 'Maryland',\n",
       " 'Massachusetts',\n",
       " 'Michigan',\n",
       " 'Minnesota',\n",
       " 'Mississippi',\n",
       " 'Missouri',\n",
       " 'Montana',\n",
       " 'NC',\n",
       " 'ND',\n",
       " 'NE',\n",
       " 'NEW YORK',\n",
       " 'NH',\n",
       " 'NJ',\n",
       " 'NM',\n",
       " 'NV',\n",
       " 'NY',\n",
       " 'Nebraska',\n",
       " 'Nevada',\n",
       " 'New Hampshire',\n",
       " 'New Jersey',\n",
       " 'New Mexico',\n",
       " 'New York',\n",
       " 'North Carolina',\n",
       " 'North Dakota',\n",
       " 'OH',\n",
       " 'OK',\n",
       " 'ON',\n",
       " 'OR',\n",
       " 'Ohio',\n",
       " 'Oklahoma',\n",
       " 'Oregon',\n",
       " 'PA',\n",
       " 'PR',\n",
       " 'Pennsylvania',\n",
       " 'Pensilvania',\n",
       " 'Puerto Rico',\n",
       " 'QC',\n",
       " 'RI',\n",
       " 'Rhode Island',\n",
       " 'SC',\n",
       " 'SD',\n",
       " 'SF',\n",
       " 'South Carolina',\n",
       " 'South Dakota',\n",
       " 'Ste B-1299',\n",
       " 'TN',\n",
       " 'TX',\n",
       " 'Tennessee',\n",
       " 'Texas',\n",
       " 'US',\n",
       " 'UT',\n",
       " 'Utah',\n",
       " 'VA',\n",
       " 'VT',\n",
       " 'Vermont',\n",
       " 'Virginia',\n",
       " 'WA',\n",
       " 'WI',\n",
       " 'WV',\n",
       " 'WY',\n",
       " 'Washington',\n",
       " 'West Virginia',\n",
       " 'Wisconsin',\n",
       " 'Wyoming']"
      ]
     },
     "execution_count": 13,
     "metadata": {},
     "output_type": "execute_result"
    }
   ],
   "source": [
    "sorted(df['TAXI_PICKUP_STATE'].unique())"
   ]
  },
  {
   "cell_type": "markdown",
   "id": "9dec2e39",
   "metadata": {},
   "source": [
    "Dictionary mapping the names with 2-letter State code for language processing and making the data understandable and standard across all the datasets"
   ]
  },
  {
   "cell_type": "code",
   "execution_count": 8,
   "id": "9955679c",
   "metadata": {},
   "outputs": [],
   "source": [
    "us_state_to_abbrev = {\n",
    "    \"Alabama\": \"AL\",\n",
    "    \"Alaska\": \"AK\",\n",
    "    \"Arizona\": \"AZ\",\n",
    "    \"Arkansas\": \"AR\",\n",
    "    \"California\": \"CA\",\n",
    "    \"Californie\": \"CA\",\n",
    "    \"Kalifornien\": \"CA\",\n",
    "    \"Colorado\": \"CO\",\n",
    "    \"Co\": \"CO\",\n",
    "    \"Connecticut\": \"CT\",\n",
    "    \"CONNECTICUT\": \"CT\",\n",
    "    \"Ct\": \"CT\",\n",
    "    \"Delaware\": \"DE\",\n",
    "    \"Florida\": \"FL\",\n",
    "    \"FL FL\": \"FL\",\n",
    "    \"Floride\": \"FL\",\n",
    "    \"Georgia\": \"GA\",\n",
    "    \"Hawaii\": \"HI\",\n",
    "    \"HAWAII\": \"HI\",\n",
    "    \"Idaho\": \"ID\",\n",
    "    \"Illinois\": \"IL\",\n",
    "    \"Il\": \"IL\",\n",
    "    \"Indiana\": \"IN\",\n",
    "    \"Iowa\": \"IA\",\n",
    "    \"Kansas\": \"KS\",\n",
    "    \"Kentucky\": \"KY\",\n",
    "    \"Louisiana\": \"LA\",\n",
    "    \"Maine\": \"ME\",\n",
    "    \"Maryland\": \"MD\",\n",
    "    \"Massachusetts\": \"MA\",\n",
    "    \"Michigan\": \"MI\",\n",
    "    \"Minnesota\": \"MN\",\n",
    "    \"Mississippi\": \"MS\",\n",
    "    \"Missouri\": \"MO\",\n",
    "    \"Montana\": \"MT\",\n",
    "    \"Nebraska\": \"NE\",\n",
    "    \"Nevada\": \"NV\",\n",
    "    \"New Hampshire\": \"NH\",\n",
    "    \"New Jersey\": \"NJ\",\n",
    "    \"New Mexico\": \"NM\",\n",
    "    \"New York\": \"NY\",\n",
    "    \"NEW YORK\": \"NY\",\n",
    "    \"North Carolina\": \"NC\",\n",
    "    \"North Dakota\": \"ND\",\n",
    "    \"Ohio\": \"OH\",\n",
    "    \"Oklahoma\": \"OK\",\n",
    "    \"Oregon\": \"OR\",\n",
    "    \"ON\": \"OK\",\n",
    "    \"Pennsylvania\": \"PA\",\n",
    "    \"Pensilvania\": \"PA\",\n",
    "    \"Rhode Island\": \"RI\",\n",
    "    \"QC\": \"SC\",\n",
    "    \"South Carolina\": \"SC\",\n",
    "    \"South Dakota\": \"SD\",\n",
    "    \"SF\": \"CA\",\n",
    "    \"Ste B-1299\": \"CA\",\n",
    "    \"Tennessee\": \"TN\",\n",
    "    \"Texas\": \"TX\",\n",
    "    \"Utah\": \"UT\",\n",
    "    \"US\": \"CA\",\n",
    "    \"Vermont\": \"VT\",\n",
    "    \"Virginia\": \"VA\",\n",
    "    \"Washington\": \"WA\",\n",
    "    \"West Virginia\": \"WV\",\n",
    "    \"Wisconsin\": \"WI\",\n",
    "    \"Wyoming\": \"WY\",\n",
    "    \"District of Columbia\": \"DC\",\n",
    "    \"American Samoa\": \"AS\",\n",
    "    \"Guam\": \"GU\",\n",
    "    \"Northern Mariana Islands\": \"MP\",\n",
    "    \"Puerto Rico\": \"PR\",\n",
    "    \"United States Minor Outlying Islands\": \"UM\",\n",
    "    \"U.S. Virgin Islands\": \"VI\",\n",
    "}"
   ]
  },
  {
   "cell_type": "code",
   "execution_count": 9,
   "id": "c8db567e",
   "metadata": {},
   "outputs": [],
   "source": [
    "abbrv_codes = us_state_to_abbrev.values()"
   ]
  },
  {
   "cell_type": "code",
   "execution_count": 16,
   "id": "02baeb6a",
   "metadata": {},
   "outputs": [
    {
     "data": {
      "text/plain": [
       "dict_values(['AL', 'AK', 'AZ', 'AR', 'CA', 'CA', 'CA', 'CO', 'CO', 'CT', 'CT', 'CT', 'DE', 'FL', 'FL', 'FL', 'GA', 'HI', 'HI', 'ID', 'IL', 'IL', 'IN', 'IA', 'KS', 'KY', 'LA', 'ME', 'MD', 'MA', 'MI', 'MN', 'MS', 'MO', 'MT', 'NE', 'NV', 'NH', 'NJ', 'NM', 'NY', 'NY', 'NC', 'ND', 'OH', 'OK', 'OR', 'OK', 'PA', 'PA', 'RI', 'SC', 'SC', 'SD', 'CA', 'CA', 'TN', 'TX', 'UT', 'CA', 'VT', 'VA', 'WA', 'WV', 'WI', 'WY', 'DC', 'AS', 'GU', 'MP', 'PR', 'UM', 'VI'])"
      ]
     },
     "execution_count": 16,
     "metadata": {},
     "output_type": "execute_result"
    }
   ],
   "source": [
    "abbrv_codes"
   ]
  },
  {
   "cell_type": "markdown",
   "id": "fc4dfcc8",
   "metadata": {},
   "source": [
    "Function to replace the Names with Abbreviated codes of States"
   ]
  },
  {
   "cell_type": "code",
   "execution_count": 10,
   "id": "4aac2473",
   "metadata": {},
   "outputs": [],
   "source": [
    "def replace_state_with_code(name, abbrv_codes):\n",
    "    if name in abbrv_codes:\n",
    "        return name\n",
    "    else:\n",
    "        return us_state_to_abbrev[name]"
   ]
  },
  {
   "cell_type": "code",
   "execution_count": 11,
   "id": "3cffde26",
   "metadata": {},
   "outputs": [],
   "source": [
    "df['STATE_CODE'] = df['TAXI_PICKUP_STATE'].apply(lambda x:replace_state_with_code(x,abbrv_codes))"
   ]
  },
  {
   "cell_type": "markdown",
   "id": "f38ebc8e",
   "metadata": {},
   "source": [
    "Final processed text - Standardized"
   ]
  },
  {
   "cell_type": "code",
   "execution_count": 19,
   "id": "5c8f90c2",
   "metadata": {},
   "outputs": [
    {
     "data": {
      "text/plain": [
       "array(['CA', 'TN', 'PA', 'WA', 'MI', 'IL', 'FL', 'DC', 'VA', 'LA', 'NY',\n",
       "       'NJ', 'AZ', 'MA', 'HI', 'SC', 'WI', 'KY', 'DE', 'GA', 'CO', 'MD',\n",
       "       'MN', 'TX', 'NV', 'IN', 'MO', 'CT', 'OK', 'OR', 'UT', 'NC', 'OH',\n",
       "       'AK', 'AR', 'SD', 'MS', 'NE', 'IA', 'ND', 'KS', 'AL', 'NM', 'RI',\n",
       "       'WV', 'PR', 'ME', 'MT', 'NH', 'VT', 'WY', 'ID'], dtype=object)"
      ]
     },
     "execution_count": 19,
     "metadata": {},
     "output_type": "execute_result"
    }
   ],
   "source": [
    "df['STATE_CODE'].unique()"
   ]
  },
  {
   "cell_type": "code",
   "execution_count": 12,
   "id": "57113a12",
   "metadata": {},
   "outputs": [],
   "source": [
    "df = df.drop(['TAXI_PICKUP_STATE'], axis=1)"
   ]
  },
  {
   "cell_type": "code",
   "execution_count": 21,
   "id": "828e891c",
   "metadata": {},
   "outputs": [
    {
     "data": {
      "text/plain": [
       "(21078051, 8)"
      ]
     },
     "execution_count": 21,
     "metadata": {},
     "output_type": "execute_result"
    }
   ],
   "source": [
    "df.shape"
   ]
  },
  {
   "cell_type": "markdown",
   "id": "1c5be26c",
   "metadata": {},
   "source": [
    "To check if there are any different units of distance"
   ]
  },
  {
   "cell_type": "code",
   "execution_count": 22,
   "id": "38e04b95",
   "metadata": {},
   "outputs": [
    {
     "data": {
      "text/plain": [
       "mi       16990394\n",
       "miles     3928529\n",
       "Miles       48997\n",
       "Name: TAXI_RIDE_DISTANCE_UNIT, dtype: int64"
      ]
     },
     "execution_count": 22,
     "metadata": {},
     "output_type": "execute_result"
    }
   ],
   "source": [
    "df['TAXI_RIDE_DISTANCE_UNIT'].value_counts()"
   ]
  },
  {
   "cell_type": "markdown",
   "id": "6cc7622b",
   "metadata": {},
   "source": [
    "All the distances are in miles and going forward for the analysis we will not need this column as well"
   ]
  },
  {
   "cell_type": "code",
   "execution_count": 13,
   "id": "d2ac293f",
   "metadata": {},
   "outputs": [],
   "source": [
    "df = df.drop(['TAXI_RIDE_DISTANCE_UNIT'],axis=1)"
   ]
  },
  {
   "cell_type": "code",
   "execution_count": 24,
   "id": "1cec7491",
   "metadata": {},
   "outputs": [
    {
     "data": {
      "text/plain": [
       "321230"
      ]
     },
     "execution_count": 24,
     "metadata": {},
     "output_type": "execute_result"
    }
   ],
   "source": [
    "df['TAXI_RIDE_TIME'].isna().sum()"
   ]
  },
  {
   "cell_type": "markdown",
   "id": "b5f91062",
   "metadata": {},
   "source": [
    "Fill NA value of time with 0"
   ]
  },
  {
   "cell_type": "code",
   "execution_count": 14,
   "id": "f4e00139",
   "metadata": {},
   "outputs": [],
   "source": [
    "df['TAXI_RIDE_TIME'].fillna(0,inplace=True)"
   ]
  },
  {
   "cell_type": "markdown",
   "id": "8d57910b",
   "metadata": {},
   "source": [
    "Using Regex, on the 'Time' column text to make it in a standardized format for all the data points. Converted to seconds "
   ]
  },
  {
   "cell_type": "code",
   "execution_count": 15,
   "id": "701c0705",
   "metadata": {},
   "outputs": [],
   "source": [
    "pattern = re.compile(\"^(\\d{2})(:)(\\d{2})(:)(\\d{2})$\")"
   ]
  },
  {
   "cell_type": "code",
   "execution_count": 16,
   "id": "8d070e64",
   "metadata": {},
   "outputs": [],
   "source": [
    "def get_sec(time_str):\n",
    "    \"\"\"Get seconds from time.\"\"\"\n",
    "    if pattern.match(str(time_str)):\n",
    "        h, m, s = str(time_str).split(':')\n",
    "        return int(h) * 3600 + int(m) * 60 + int(s)\n",
    "    else:\n",
    "        return 0\n",
    "\n",
    "df['RIDE_TIME'] = df['TAXI_RIDE_TIME'].apply(lambda x: get_sec(x))"
   ]
  },
  {
   "cell_type": "markdown",
   "id": "a2a13ed6",
   "metadata": {},
   "source": [
    "Median cab time calculated for the NA values in the Ride_time column"
   ]
  },
  {
   "cell_type": "code",
   "execution_count": 17,
   "id": "3016f4a9",
   "metadata": {},
   "outputs": [],
   "source": [
    "median_cab_time = df[df['RIDE_TIME'] != 0]['RIDE_TIME'].median()"
   ]
  },
  {
   "cell_type": "code",
   "execution_count": 18,
   "id": "f61335a8",
   "metadata": {},
   "outputs": [],
   "source": [
    "df.loc[df['RIDE_TIME'] == 0,'RIDE_TIME'] = median_cab_time"
   ]
  },
  {
   "cell_type": "code",
   "execution_count": 19,
   "id": "790049c9",
   "metadata": {},
   "outputs": [],
   "source": [
    "df['RIDE_TIME'] = df['RIDE_TIME'].astype(int)"
   ]
  },
  {
   "cell_type": "code",
   "execution_count": 20,
   "id": "cb773c88",
   "metadata": {},
   "outputs": [],
   "source": [
    "df = df.drop(['TAXI_RIDE_TIME'],axis=1)"
   ]
  },
  {
   "cell_type": "markdown",
   "id": "31d77523",
   "metadata": {},
   "source": [
    "## Final cleaned and processed data for further aggregation"
   ]
  },
  {
   "cell_type": "code",
   "execution_count": 21,
   "id": "82a8ce82",
   "metadata": {},
   "outputs": [
    {
     "data": {
      "text/html": [
       "<div>\n",
       "<style scoped>\n",
       "    .dataframe tbody tr th:only-of-type {\n",
       "        vertical-align: middle;\n",
       "    }\n",
       "\n",
       "    .dataframe tbody tr th {\n",
       "        vertical-align: top;\n",
       "    }\n",
       "\n",
       "    .dataframe thead th {\n",
       "        text-align: right;\n",
       "    }\n",
       "</style>\n",
       "<table border=\"1\" class=\"dataframe\">\n",
       "  <thead>\n",
       "    <tr style=\"text-align: right;\">\n",
       "      <th></th>\n",
       "      <th>ITEM_ID</th>\n",
       "      <th>MERCHANT_NAME</th>\n",
       "      <th>ORDER_DATE</th>\n",
       "      <th>ORDER_TOTAL</th>\n",
       "      <th>TAXI_RIDE_DISTANCE</th>\n",
       "      <th>STATE_CODE</th>\n",
       "      <th>RIDE_TIME</th>\n",
       "    </tr>\n",
       "  </thead>\n",
       "  <tbody>\n",
       "    <tr>\n",
       "      <th>0</th>\n",
       "      <td>69211280-faaa-3ba1-a046-a9c1820ade87</td>\n",
       "      <td>Uber</td>\n",
       "      <td>2019-09-28</td>\n",
       "      <td>13.87</td>\n",
       "      <td>7.68</td>\n",
       "      <td>CA</td>\n",
       "      <td>1140</td>\n",
       "    </tr>\n",
       "    <tr>\n",
       "      <th>1</th>\n",
       "      <td>c9619d67-f961-36b9-ac83-d3ead01e00eb</td>\n",
       "      <td>Lyft</td>\n",
       "      <td>2020-10-22</td>\n",
       "      <td>8.60</td>\n",
       "      <td>2.91</td>\n",
       "      <td>TN</td>\n",
       "      <td>489</td>\n",
       "    </tr>\n",
       "    <tr>\n",
       "      <th>2</th>\n",
       "      <td>12001593-310d-3d61-b3a3-9bf0ba2af3bd</td>\n",
       "      <td>Uber</td>\n",
       "      <td>2020-10-29</td>\n",
       "      <td>10.44</td>\n",
       "      <td>1.36</td>\n",
       "      <td>PA</td>\n",
       "      <td>300</td>\n",
       "    </tr>\n",
       "    <tr>\n",
       "      <th>3</th>\n",
       "      <td>b6f56fc8-d830-37c5-b60b-c3acbca2d9e9</td>\n",
       "      <td>Lyft</td>\n",
       "      <td>2019-08-20</td>\n",
       "      <td>0.00</td>\n",
       "      <td>4.06</td>\n",
       "      <td>WA</td>\n",
       "      <td>1605</td>\n",
       "    </tr>\n",
       "    <tr>\n",
       "      <th>4</th>\n",
       "      <td>e1c11bd3-0982-3589-b79a-6efe86e6f9c9</td>\n",
       "      <td>Lyft</td>\n",
       "      <td>2020-03-17</td>\n",
       "      <td>11.72</td>\n",
       "      <td>8.45</td>\n",
       "      <td>MI</td>\n",
       "      <td>781</td>\n",
       "    </tr>\n",
       "  </tbody>\n",
       "</table>\n",
       "</div>"
      ],
      "text/plain": [
       "                                ITEM_ID MERCHANT_NAME  ORDER_DATE  \\\n",
       "0  69211280-faaa-3ba1-a046-a9c1820ade87          Uber  2019-09-28   \n",
       "1  c9619d67-f961-36b9-ac83-d3ead01e00eb          Lyft  2020-10-22   \n",
       "2  12001593-310d-3d61-b3a3-9bf0ba2af3bd          Uber  2020-10-29   \n",
       "3  b6f56fc8-d830-37c5-b60b-c3acbca2d9e9          Lyft  2019-08-20   \n",
       "4  e1c11bd3-0982-3589-b79a-6efe86e6f9c9          Lyft  2020-03-17   \n",
       "\n",
       "   ORDER_TOTAL  TAXI_RIDE_DISTANCE STATE_CODE  RIDE_TIME  \n",
       "0        13.87                7.68         CA       1140  \n",
       "1         8.60                2.91         TN        489  \n",
       "2        10.44                1.36         PA        300  \n",
       "3         0.00                4.06         WA       1605  \n",
       "4        11.72                8.45         MI        781  "
      ]
     },
     "execution_count": 21,
     "metadata": {},
     "output_type": "execute_result"
    }
   ],
   "source": [
    "df.head()"
   ]
  },
  {
   "cell_type": "markdown",
   "id": "b00b0860",
   "metadata": {},
   "source": [
    "## Converting the data to quarterly"
   ]
  },
  {
   "cell_type": "markdown",
   "id": "8bc7084b",
   "metadata": {},
   "source": [
    "1. Defined a function get_year_quarter \n",
    "2. Taking the first 4 characters in 'ORDER_DATE' which corresponds to year\n",
    "3. Taking the characters in between corresponding to month and dividing by 3 to get the Quarter\n",
    "4. Finally returns the Year with the quarter for each observation"
   ]
  },
  {
   "cell_type": "code",
   "execution_count": 22,
   "id": "cbc83c23",
   "metadata": {},
   "outputs": [],
   "source": [
    "def get_year_quarter(date_string):\n",
    "    year = str(date_string[:4])\n",
    "    quarter = str(math.ceil(int(date_string[5:7])/3))\n",
    "    return year + \"Q\" + quarter"
   ]
  },
  {
   "cell_type": "code",
   "execution_count": 23,
   "id": "103fdf02",
   "metadata": {},
   "outputs": [],
   "source": [
    "df['QUARTER'] = df['ORDER_DATE'].apply(lambda x:get_year_quarter(x))"
   ]
  },
  {
   "cell_type": "code",
   "execution_count": 24,
   "id": "1074d7f4",
   "metadata": {},
   "outputs": [],
   "source": [
    "df = df.drop(['ORDER_DATE'],axis=1)"
   ]
  },
  {
   "cell_type": "markdown",
   "id": "7d936e33",
   "metadata": {},
   "source": [
    "Final dataset with the Quarters"
   ]
  },
  {
   "cell_type": "code",
   "execution_count": 36,
   "id": "c1652379",
   "metadata": {},
   "outputs": [
    {
     "data": {
      "text/html": [
       "<div>\n",
       "<style scoped>\n",
       "    .dataframe tbody tr th:only-of-type {\n",
       "        vertical-align: middle;\n",
       "    }\n",
       "\n",
       "    .dataframe tbody tr th {\n",
       "        vertical-align: top;\n",
       "    }\n",
       "\n",
       "    .dataframe thead th {\n",
       "        text-align: right;\n",
       "    }\n",
       "</style>\n",
       "<table border=\"1\" class=\"dataframe\">\n",
       "  <thead>\n",
       "    <tr style=\"text-align: right;\">\n",
       "      <th></th>\n",
       "      <th>ITEM_ID</th>\n",
       "      <th>MERCHANT_NAME</th>\n",
       "      <th>ORDER_TOTAL</th>\n",
       "      <th>TAXI_RIDE_DISTANCE</th>\n",
       "      <th>STATE_CODE</th>\n",
       "      <th>RIDE_TIME</th>\n",
       "      <th>QUARTER</th>\n",
       "    </tr>\n",
       "  </thead>\n",
       "  <tbody>\n",
       "    <tr>\n",
       "      <th>0</th>\n",
       "      <td>69211280-faaa-3ba1-a046-a9c1820ade87</td>\n",
       "      <td>Uber</td>\n",
       "      <td>13.87</td>\n",
       "      <td>7.68</td>\n",
       "      <td>CA</td>\n",
       "      <td>1140</td>\n",
       "      <td>2019Q3</td>\n",
       "    </tr>\n",
       "    <tr>\n",
       "      <th>1</th>\n",
       "      <td>c9619d67-f961-36b9-ac83-d3ead01e00eb</td>\n",
       "      <td>Lyft</td>\n",
       "      <td>8.60</td>\n",
       "      <td>2.91</td>\n",
       "      <td>TN</td>\n",
       "      <td>489</td>\n",
       "      <td>2020Q4</td>\n",
       "    </tr>\n",
       "    <tr>\n",
       "      <th>2</th>\n",
       "      <td>12001593-310d-3d61-b3a3-9bf0ba2af3bd</td>\n",
       "      <td>Uber</td>\n",
       "      <td>10.44</td>\n",
       "      <td>1.36</td>\n",
       "      <td>PA</td>\n",
       "      <td>300</td>\n",
       "      <td>2020Q4</td>\n",
       "    </tr>\n",
       "    <tr>\n",
       "      <th>3</th>\n",
       "      <td>b6f56fc8-d830-37c5-b60b-c3acbca2d9e9</td>\n",
       "      <td>Lyft</td>\n",
       "      <td>0.00</td>\n",
       "      <td>4.06</td>\n",
       "      <td>WA</td>\n",
       "      <td>1605</td>\n",
       "      <td>2019Q3</td>\n",
       "    </tr>\n",
       "    <tr>\n",
       "      <th>4</th>\n",
       "      <td>e1c11bd3-0982-3589-b79a-6efe86e6f9c9</td>\n",
       "      <td>Lyft</td>\n",
       "      <td>11.72</td>\n",
       "      <td>8.45</td>\n",
       "      <td>MI</td>\n",
       "      <td>781</td>\n",
       "      <td>2020Q1</td>\n",
       "    </tr>\n",
       "  </tbody>\n",
       "</table>\n",
       "</div>"
      ],
      "text/plain": [
       "                                ITEM_ID MERCHANT_NAME  ORDER_TOTAL  \\\n",
       "0  69211280-faaa-3ba1-a046-a9c1820ade87          Uber        13.87   \n",
       "1  c9619d67-f961-36b9-ac83-d3ead01e00eb          Lyft         8.60   \n",
       "2  12001593-310d-3d61-b3a3-9bf0ba2af3bd          Uber        10.44   \n",
       "3  b6f56fc8-d830-37c5-b60b-c3acbca2d9e9          Lyft         0.00   \n",
       "4  e1c11bd3-0982-3589-b79a-6efe86e6f9c9          Lyft        11.72   \n",
       "\n",
       "   TAXI_RIDE_DISTANCE STATE_CODE  RIDE_TIME QUARTER  \n",
       "0                7.68         CA       1140  2019Q3  \n",
       "1                2.91         TN        489  2020Q4  \n",
       "2                1.36         PA        300  2020Q4  \n",
       "3                4.06         WA       1605  2019Q3  \n",
       "4                8.45         MI        781  2020Q1  "
      ]
     },
     "execution_count": 36,
     "metadata": {},
     "output_type": "execute_result"
    }
   ],
   "source": [
    "df.head()"
   ]
  },
  {
   "cell_type": "code",
   "execution_count": 25,
   "id": "78d9b5ca",
   "metadata": {},
   "outputs": [],
   "source": [
    "df.columns = ['ID','MERCHANT','ORDER_TOTAL','DISTANCE','STATE','TIME','QUARTER']\n",
    "df = df[['ID','MERCHANT','QUARTER','ORDER_TOTAL','DISTANCE','TIME','STATE']]"
   ]
  },
  {
   "cell_type": "markdown",
   "id": "96af6761",
   "metadata": {},
   "source": [
    "# Updated Rideshare data written to CSV"
   ]
  },
  {
   "cell_type": "code",
   "execution_count": 26,
   "id": "8b895b2c",
   "metadata": {},
   "outputs": [],
   "source": [
    "df.to_csv(\"Updated Rideshare Data.csv\",index=None)"
   ]
  },
  {
   "cell_type": "code",
   "execution_count": 27,
   "id": "163888f1",
   "metadata": {},
   "outputs": [],
   "source": [
    "item_ids = df['ID']\n",
    "df = df.drop(['ID'],axis=1)"
   ]
  },
  {
   "cell_type": "markdown",
   "id": "d094d43e",
   "metadata": {},
   "source": [
    "## Regional Analysis"
   ]
  },
  {
   "cell_type": "markdown",
   "id": "117838ef",
   "metadata": {},
   "source": [
    "Grouping by data by Merchant, Quarter and State to get the % revenues from each region"
   ]
  },
  {
   "cell_type": "code",
   "execution_count": 28,
   "id": "30167be5",
   "metadata": {},
   "outputs": [
    {
     "name": "stderr",
     "output_type": "stream",
     "text": [
      "C:\\Users\\dhwan\\AppData\\Local\\Temp\\ipykernel_26272\\2804732138.py:1: FutureWarning: Indexing with multiple keys (implicitly converted to a tuple of keys) will be deprecated, use a list instead.\n",
      "  grouped_df = df.groupby(['MERCHANT', 'QUARTER', 'STATE'])[\"ORDER_TOTAL\", \"DISTANCE\", \"TIME\"].apply(lambda x : x.sum())\n"
     ]
    }
   ],
   "source": [
    "grouped_df = df.groupby(['MERCHANT', 'QUARTER', 'STATE'])[\"ORDER_TOTAL\", \"DISTANCE\", \"TIME\"].apply(lambda x : x.sum())"
   ]
  },
  {
   "cell_type": "code",
   "execution_count": 89,
   "id": "35b6c94d",
   "metadata": {},
   "outputs": [
    {
     "data": {
      "text/plain": [
       "(1025, 3)"
      ]
     },
     "execution_count": 89,
     "metadata": {},
     "output_type": "execute_result"
    }
   ],
   "source": [
    "grouped_df.shape"
   ]
  },
  {
   "cell_type": "code",
   "execution_count": 90,
   "id": "975238df",
   "metadata": {},
   "outputs": [
    {
     "data": {
      "text/html": [
       "<div>\n",
       "<style scoped>\n",
       "    .dataframe tbody tr th:only-of-type {\n",
       "        vertical-align: middle;\n",
       "    }\n",
       "\n",
       "    .dataframe tbody tr th {\n",
       "        vertical-align: top;\n",
       "    }\n",
       "\n",
       "    .dataframe thead th {\n",
       "        text-align: right;\n",
       "    }\n",
       "</style>\n",
       "<table border=\"1\" class=\"dataframe\">\n",
       "  <thead>\n",
       "    <tr style=\"text-align: right;\">\n",
       "      <th></th>\n",
       "      <th></th>\n",
       "      <th></th>\n",
       "      <th>ORDER_TOTAL</th>\n",
       "      <th>DISTANCE</th>\n",
       "      <th>TIME</th>\n",
       "    </tr>\n",
       "    <tr>\n",
       "      <th>MERCHANT</th>\n",
       "      <th>QUARTER</th>\n",
       "      <th>STATE</th>\n",
       "      <th></th>\n",
       "      <th></th>\n",
       "      <th></th>\n",
       "    </tr>\n",
       "  </thead>\n",
       "  <tbody>\n",
       "    <tr>\n",
       "      <th rowspan=\"5\" valign=\"top\">Juno</th>\n",
       "      <th rowspan=\"2\" valign=\"top\">2019Q2</th>\n",
       "      <th>CA</th>\n",
       "      <td>5427.95</td>\n",
       "      <td>1506.40</td>\n",
       "      <td>249719.0</td>\n",
       "    </tr>\n",
       "    <tr>\n",
       "      <th>NY</th>\n",
       "      <td>467341.32</td>\n",
       "      <td>96178.07</td>\n",
       "      <td>23824673.0</td>\n",
       "    </tr>\n",
       "    <tr>\n",
       "      <th rowspan=\"2\" valign=\"top\">2019Q3</th>\n",
       "      <th>CA</th>\n",
       "      <td>5904.01</td>\n",
       "      <td>1660.63</td>\n",
       "      <td>259487.0</td>\n",
       "    </tr>\n",
       "    <tr>\n",
       "      <th>NY</th>\n",
       "      <td>378102.17</td>\n",
       "      <td>80206.91</td>\n",
       "      <td>19256357.0</td>\n",
       "    </tr>\n",
       "    <tr>\n",
       "      <th>2019Q4</th>\n",
       "      <th>CA</th>\n",
       "      <td>2554.07</td>\n",
       "      <td>733.84</td>\n",
       "      <td>121597.0</td>\n",
       "    </tr>\n",
       "  </tbody>\n",
       "</table>\n",
       "</div>"
      ],
      "text/plain": [
       "                        ORDER_TOTAL  DISTANCE        TIME\n",
       "MERCHANT QUARTER STATE                                   \n",
       "Juno     2019Q2  CA         5427.95   1506.40    249719.0\n",
       "                 NY       467341.32  96178.07  23824673.0\n",
       "         2019Q3  CA         5904.01   1660.63    259487.0\n",
       "                 NY       378102.17  80206.91  19256357.0\n",
       "         2019Q4  CA         2554.07    733.84    121597.0"
      ]
     },
     "execution_count": 90,
     "metadata": {},
     "output_type": "execute_result"
    }
   ],
   "source": [
    "grouped_df.head()"
   ]
  },
  {
   "cell_type": "code",
   "execution_count": 91,
   "id": "329ebf13",
   "metadata": {},
   "outputs": [
    {
     "data": {
      "text/html": [
       "<div>\n",
       "<style scoped>\n",
       "    .dataframe tbody tr th:only-of-type {\n",
       "        vertical-align: middle;\n",
       "    }\n",
       "\n",
       "    .dataframe tbody tr th {\n",
       "        vertical-align: top;\n",
       "    }\n",
       "\n",
       "    .dataframe thead th {\n",
       "        text-align: right;\n",
       "    }\n",
       "</style>\n",
       "<table border=\"1\" class=\"dataframe\">\n",
       "  <thead>\n",
       "    <tr style=\"text-align: right;\">\n",
       "      <th></th>\n",
       "      <th></th>\n",
       "      <th></th>\n",
       "      <th>ORDER_TOTAL</th>\n",
       "      <th>DISTANCE</th>\n",
       "      <th>TIME</th>\n",
       "    </tr>\n",
       "    <tr>\n",
       "      <th>MERCHANT</th>\n",
       "      <th>QUARTER</th>\n",
       "      <th>STATE</th>\n",
       "      <th></th>\n",
       "      <th></th>\n",
       "      <th></th>\n",
       "    </tr>\n",
       "  </thead>\n",
       "  <tbody>\n",
       "    <tr>\n",
       "      <th rowspan=\"5\" valign=\"top\">VIA</th>\n",
       "      <th rowspan=\"5\" valign=\"top\">2021Q2</th>\n",
       "      <th>NJ</th>\n",
       "      <td>390.89</td>\n",
       "      <td>108.3</td>\n",
       "      <td>4680.0</td>\n",
       "    </tr>\n",
       "    <tr>\n",
       "      <th>NY</th>\n",
       "      <td>81761.38</td>\n",
       "      <td>15078.8</td>\n",
       "      <td>2201160.0</td>\n",
       "    </tr>\n",
       "    <tr>\n",
       "      <th>TX</th>\n",
       "      <td>266.42</td>\n",
       "      <td>412.7</td>\n",
       "      <td>86580.0</td>\n",
       "    </tr>\n",
       "    <tr>\n",
       "      <th>VA</th>\n",
       "      <td>61.52</td>\n",
       "      <td>19.5</td>\n",
       "      <td>3900.0</td>\n",
       "    </tr>\n",
       "    <tr>\n",
       "      <th>WA</th>\n",
       "      <td>30.25</td>\n",
       "      <td>3.6</td>\n",
       "      <td>4680.0</td>\n",
       "    </tr>\n",
       "  </tbody>\n",
       "</table>\n",
       "</div>"
      ],
      "text/plain": [
       "                        ORDER_TOTAL  DISTANCE       TIME\n",
       "MERCHANT QUARTER STATE                                  \n",
       "VIA      2021Q2  NJ          390.89     108.3     4680.0\n",
       "                 NY        81761.38   15078.8  2201160.0\n",
       "                 TX          266.42     412.7    86580.0\n",
       "                 VA           61.52      19.5     3900.0\n",
       "                 WA           30.25       3.6     4680.0"
      ]
     },
     "execution_count": 91,
     "metadata": {},
     "output_type": "execute_result"
    }
   ],
   "source": [
    "grouped_df.tail()"
   ]
  },
  {
   "cell_type": "code",
   "execution_count": 29,
   "id": "4d4c1f7d",
   "metadata": {},
   "outputs": [],
   "source": [
    "grouped_df = grouped_df.reset_index()"
   ]
  },
  {
   "cell_type": "markdown",
   "id": "9c6072e1",
   "metadata": {},
   "source": [
    "Aggregated order total, distance, time for each merchant in a state for each quarter"
   ]
  },
  {
   "cell_type": "code",
   "execution_count": 93,
   "id": "f1e00900",
   "metadata": {},
   "outputs": [
    {
     "data": {
      "text/html": [
       "<div>\n",
       "<style scoped>\n",
       "    .dataframe tbody tr th:only-of-type {\n",
       "        vertical-align: middle;\n",
       "    }\n",
       "\n",
       "    .dataframe tbody tr th {\n",
       "        vertical-align: top;\n",
       "    }\n",
       "\n",
       "    .dataframe thead th {\n",
       "        text-align: right;\n",
       "    }\n",
       "</style>\n",
       "<table border=\"1\" class=\"dataframe\">\n",
       "  <thead>\n",
       "    <tr style=\"text-align: right;\">\n",
       "      <th></th>\n",
       "      <th>MERCHANT</th>\n",
       "      <th>QUARTER</th>\n",
       "      <th>STATE</th>\n",
       "      <th>ORDER_TOTAL</th>\n",
       "      <th>DISTANCE</th>\n",
       "      <th>TIME</th>\n",
       "    </tr>\n",
       "  </thead>\n",
       "  <tbody>\n",
       "    <tr>\n",
       "      <th>465</th>\n",
       "      <td>Uber</td>\n",
       "      <td>2019Q2</td>\n",
       "      <td>AK</td>\n",
       "      <td>17032.82</td>\n",
       "      <td>5077.70</td>\n",
       "      <td>674340.0</td>\n",
       "    </tr>\n",
       "    <tr>\n",
       "      <th>466</th>\n",
       "      <td>Uber</td>\n",
       "      <td>2019Q2</td>\n",
       "      <td>AL</td>\n",
       "      <td>70257.59</td>\n",
       "      <td>25004.09</td>\n",
       "      <td>3182450.0</td>\n",
       "    </tr>\n",
       "    <tr>\n",
       "      <th>467</th>\n",
       "      <td>Uber</td>\n",
       "      <td>2019Q2</td>\n",
       "      <td>AR</td>\n",
       "      <td>48392.45</td>\n",
       "      <td>19963.23</td>\n",
       "      <td>2347800.0</td>\n",
       "    </tr>\n",
       "    <tr>\n",
       "      <th>468</th>\n",
       "      <td>Uber</td>\n",
       "      <td>2019Q2</td>\n",
       "      <td>AZ</td>\n",
       "      <td>407218.01</td>\n",
       "      <td>221414.60</td>\n",
       "      <td>23803818.0</td>\n",
       "    </tr>\n",
       "    <tr>\n",
       "      <th>469</th>\n",
       "      <td>Uber</td>\n",
       "      <td>2019Q2</td>\n",
       "      <td>CA</td>\n",
       "      <td>7618236.32</td>\n",
       "      <td>3455365.29</td>\n",
       "      <td>516810580.0</td>\n",
       "    </tr>\n",
       "    <tr>\n",
       "      <th>...</th>\n",
       "      <td>...</td>\n",
       "      <td>...</td>\n",
       "      <td>...</td>\n",
       "      <td>...</td>\n",
       "      <td>...</td>\n",
       "      <td>...</td>\n",
       "    </tr>\n",
       "    <tr>\n",
       "      <th>926</th>\n",
       "      <td>Uber</td>\n",
       "      <td>2021Q2</td>\n",
       "      <td>VT</td>\n",
       "      <td>4948.67</td>\n",
       "      <td>1192.64</td>\n",
       "      <td>182280.0</td>\n",
       "    </tr>\n",
       "    <tr>\n",
       "      <th>927</th>\n",
       "      <td>Uber</td>\n",
       "      <td>2021Q2</td>\n",
       "      <td>WA</td>\n",
       "      <td>352454.25</td>\n",
       "      <td>84408.23</td>\n",
       "      <td>10906860.0</td>\n",
       "    </tr>\n",
       "    <tr>\n",
       "      <th>928</th>\n",
       "      <td>Uber</td>\n",
       "      <td>2021Q2</td>\n",
       "      <td>WI</td>\n",
       "      <td>89185.37</td>\n",
       "      <td>25346.90</td>\n",
       "      <td>3243420.0</td>\n",
       "    </tr>\n",
       "    <tr>\n",
       "      <th>929</th>\n",
       "      <td>Uber</td>\n",
       "      <td>2021Q2</td>\n",
       "      <td>WV</td>\n",
       "      <td>4335.85</td>\n",
       "      <td>1264.77</td>\n",
       "      <td>177600.0</td>\n",
       "    </tr>\n",
       "    <tr>\n",
       "      <th>930</th>\n",
       "      <td>Uber</td>\n",
       "      <td>2021Q2</td>\n",
       "      <td>WY</td>\n",
       "      <td>3785.88</td>\n",
       "      <td>827.77</td>\n",
       "      <td>101700.0</td>\n",
       "    </tr>\n",
       "  </tbody>\n",
       "</table>\n",
       "<p>466 rows × 6 columns</p>\n",
       "</div>"
      ],
      "text/plain": [
       "    MERCHANT QUARTER STATE  ORDER_TOTAL    DISTANCE         TIME\n",
       "465     Uber  2019Q2    AK     17032.82     5077.70     674340.0\n",
       "466     Uber  2019Q2    AL     70257.59    25004.09    3182450.0\n",
       "467     Uber  2019Q2    AR     48392.45    19963.23    2347800.0\n",
       "468     Uber  2019Q2    AZ    407218.01   221414.60   23803818.0\n",
       "469     Uber  2019Q2    CA   7618236.32  3455365.29  516810580.0\n",
       "..       ...     ...   ...          ...         ...          ...\n",
       "926     Uber  2021Q2    VT      4948.67     1192.64     182280.0\n",
       "927     Uber  2021Q2    WA    352454.25    84408.23   10906860.0\n",
       "928     Uber  2021Q2    WI     89185.37    25346.90    3243420.0\n",
       "929     Uber  2021Q2    WV      4335.85     1264.77     177600.0\n",
       "930     Uber  2021Q2    WY      3785.88      827.77     101700.0\n",
       "\n",
       "[466 rows x 6 columns]"
      ]
     },
     "execution_count": 93,
     "metadata": {},
     "output_type": "execute_result"
    }
   ],
   "source": [
    "grouped_df[grouped_df['MERCHANT'] == 'Uber']"
   ]
  },
  {
   "cell_type": "code",
   "execution_count": 43,
   "id": "d7eab309",
   "metadata": {},
   "outputs": [],
   "source": [
    "grouped_df['% REVENUES'] = grouped_df.groupby('STATE')['ORDER_TOTAL'].transform('sum')"
   ]
  },
  {
   "cell_type": "code",
   "execution_count": 42,
   "id": "7498d6c9",
   "metadata": {},
   "outputs": [
    {
     "data": {
      "text/html": [
       "<div>\n",
       "<style scoped>\n",
       "    .dataframe tbody tr th:only-of-type {\n",
       "        vertical-align: middle;\n",
       "    }\n",
       "\n",
       "    .dataframe tbody tr th {\n",
       "        vertical-align: top;\n",
       "    }\n",
       "\n",
       "    .dataframe thead th {\n",
       "        text-align: right;\n",
       "    }\n",
       "</style>\n",
       "<table border=\"1\" class=\"dataframe\">\n",
       "  <thead>\n",
       "    <tr style=\"text-align: right;\">\n",
       "      <th></th>\n",
       "      <th>MERCHANT</th>\n",
       "      <th>QUARTER</th>\n",
       "      <th>STATE</th>\n",
       "      <th>ORDER_TOTAL</th>\n",
       "      <th>DISTANCE</th>\n",
       "      <th>TIME</th>\n",
       "      <th>GROWTH</th>\n",
       "      <th>% REVENUES</th>\n",
       "    </tr>\n",
       "  </thead>\n",
       "  <tbody>\n",
       "    <tr>\n",
       "      <th>1020</th>\n",
       "      <td>VIA</td>\n",
       "      <td>2021Q2</td>\n",
       "      <td>NJ</td>\n",
       "      <td>390.89</td>\n",
       "      <td>108.3</td>\n",
       "      <td>4680.0</td>\n",
       "      <td>0.041901</td>\n",
       "      <td>13343888.61</td>\n",
       "    </tr>\n",
       "    <tr>\n",
       "      <th>1021</th>\n",
       "      <td>VIA</td>\n",
       "      <td>2021Q2</td>\n",
       "      <td>NY</td>\n",
       "      <td>81761.38</td>\n",
       "      <td>15078.8</td>\n",
       "      <td>2201160.0</td>\n",
       "      <td>0.042446</td>\n",
       "      <td>84908803.03</td>\n",
       "    </tr>\n",
       "    <tr>\n",
       "      <th>1022</th>\n",
       "      <td>VIA</td>\n",
       "      <td>2021Q2</td>\n",
       "      <td>TX</td>\n",
       "      <td>266.42</td>\n",
       "      <td>412.7</td>\n",
       "      <td>86580.0</td>\n",
       "      <td>9.468369</td>\n",
       "      <td>21070703.75</td>\n",
       "    </tr>\n",
       "    <tr>\n",
       "      <th>1023</th>\n",
       "      <td>VIA</td>\n",
       "      <td>2021Q2</td>\n",
       "      <td>VA</td>\n",
       "      <td>61.52</td>\n",
       "      <td>19.5</td>\n",
       "      <td>3900.0</td>\n",
       "      <td>0.990939</td>\n",
       "      <td>6589544.82</td>\n",
       "    </tr>\n",
       "    <tr>\n",
       "      <th>1024</th>\n",
       "      <td>VIA</td>\n",
       "      <td>2021Q2</td>\n",
       "      <td>WA</td>\n",
       "      <td>30.25</td>\n",
       "      <td>3.6</td>\n",
       "      <td>4680.0</td>\n",
       "      <td>1.168459</td>\n",
       "      <td>7369672.61</td>\n",
       "    </tr>\n",
       "  </tbody>\n",
       "</table>\n",
       "</div>"
      ],
      "text/plain": [
       "     MERCHANT QUARTER STATE  ORDER_TOTAL  DISTANCE       TIME    GROWTH  \\\n",
       "1020      VIA  2021Q2    NJ       390.89     108.3     4680.0  0.041901   \n",
       "1021      VIA  2021Q2    NY     81761.38   15078.8  2201160.0  0.042446   \n",
       "1022      VIA  2021Q2    TX       266.42     412.7    86580.0  9.468369   \n",
       "1023      VIA  2021Q2    VA        61.52      19.5     3900.0  0.990939   \n",
       "1024      VIA  2021Q2    WA        30.25       3.6     4680.0  1.168459   \n",
       "\n",
       "       % REVENUES  \n",
       "1020  13343888.61  \n",
       "1021  84908803.03  \n",
       "1022  21070703.75  \n",
       "1023   6589544.82  \n",
       "1024   7369672.61  "
      ]
     },
     "execution_count": 42,
     "metadata": {},
     "output_type": "execute_result"
    }
   ],
   "source": [
    "grouped_df.head()"
   ]
  },
  {
   "cell_type": "markdown",
   "id": "a4ae3336",
   "metadata": {},
   "source": [
    "## Regions experiencing the fastest growth per merchant"
   ]
  },
  {
   "cell_type": "markdown",
   "id": "805a3a50",
   "metadata": {},
   "source": [
    "Calculated the growth of each merchant in each state by Percentage Change"
   ]
  },
  {
   "cell_type": "code",
   "execution_count": 44,
   "id": "3c53a6fb",
   "metadata": {},
   "outputs": [],
   "source": [
    "grouped_df['GROWTH'] = (grouped_df.groupby(['MERCHANT','STATE'])['ORDER_TOTAL']\n",
    "                                  .apply(pd.Series.pct_change))"
   ]
  },
  {
   "cell_type": "code",
   "execution_count": 95,
   "id": "fd808aab",
   "metadata": {},
   "outputs": [
    {
     "data": {
      "text/html": [
       "<div>\n",
       "<style scoped>\n",
       "    .dataframe tbody tr th:only-of-type {\n",
       "        vertical-align: middle;\n",
       "    }\n",
       "\n",
       "    .dataframe tbody tr th {\n",
       "        vertical-align: top;\n",
       "    }\n",
       "\n",
       "    .dataframe thead th {\n",
       "        text-align: right;\n",
       "    }\n",
       "</style>\n",
       "<table border=\"1\" class=\"dataframe\">\n",
       "  <thead>\n",
       "    <tr style=\"text-align: right;\">\n",
       "      <th></th>\n",
       "      <th>MERCHANT</th>\n",
       "      <th>QUARTER</th>\n",
       "      <th>STATE</th>\n",
       "      <th>ORDER_TOTAL</th>\n",
       "      <th>DISTANCE</th>\n",
       "      <th>TIME</th>\n",
       "      <th>GROWTH</th>\n",
       "    </tr>\n",
       "  </thead>\n",
       "  <tbody>\n",
       "    <tr>\n",
       "      <th>469</th>\n",
       "      <td>Uber</td>\n",
       "      <td>2019Q2</td>\n",
       "      <td>CA</td>\n",
       "      <td>7618236.32</td>\n",
       "      <td>3455365.29</td>\n",
       "      <td>516810580.0</td>\n",
       "      <td>NaN</td>\n",
       "    </tr>\n",
       "    <tr>\n",
       "      <th>521</th>\n",
       "      <td>Uber</td>\n",
       "      <td>2019Q3</td>\n",
       "      <td>CA</td>\n",
       "      <td>8026511.50</td>\n",
       "      <td>3503842.03</td>\n",
       "      <td>518858119.0</td>\n",
       "      <td>0.053592</td>\n",
       "    </tr>\n",
       "    <tr>\n",
       "      <th>573</th>\n",
       "      <td>Uber</td>\n",
       "      <td>2019Q4</td>\n",
       "      <td>CA</td>\n",
       "      <td>8278948.45</td>\n",
       "      <td>3376067.05</td>\n",
       "      <td>504754620.0</td>\n",
       "      <td>0.031450</td>\n",
       "    </tr>\n",
       "    <tr>\n",
       "      <th>625</th>\n",
       "      <td>Uber</td>\n",
       "      <td>2020Q1</td>\n",
       "      <td>CA</td>\n",
       "      <td>5855680.46</td>\n",
       "      <td>2356306.46</td>\n",
       "      <td>336966300.0</td>\n",
       "      <td>-0.292702</td>\n",
       "    </tr>\n",
       "    <tr>\n",
       "      <th>677</th>\n",
       "      <td>Uber</td>\n",
       "      <td>2020Q2</td>\n",
       "      <td>CA</td>\n",
       "      <td>1062224.35</td>\n",
       "      <td>402303.84</td>\n",
       "      <td>48282000.0</td>\n",
       "      <td>-0.818599</td>\n",
       "    </tr>\n",
       "    <tr>\n",
       "      <th>728</th>\n",
       "      <td>Uber</td>\n",
       "      <td>2020Q3</td>\n",
       "      <td>CA</td>\n",
       "      <td>1867067.73</td>\n",
       "      <td>661996.04</td>\n",
       "      <td>82168140.0</td>\n",
       "      <td>0.757696</td>\n",
       "    </tr>\n",
       "    <tr>\n",
       "      <th>779</th>\n",
       "      <td>Uber</td>\n",
       "      <td>2020Q4</td>\n",
       "      <td>CA</td>\n",
       "      <td>2397317.68</td>\n",
       "      <td>834636.66</td>\n",
       "      <td>107384580.0</td>\n",
       "      <td>0.284001</td>\n",
       "    </tr>\n",
       "    <tr>\n",
       "      <th>831</th>\n",
       "      <td>Uber</td>\n",
       "      <td>2021Q1</td>\n",
       "      <td>CA</td>\n",
       "      <td>3723541.64</td>\n",
       "      <td>1229471.88</td>\n",
       "      <td>149938800.0</td>\n",
       "      <td>0.553212</td>\n",
       "    </tr>\n",
       "    <tr>\n",
       "      <th>883</th>\n",
       "      <td>Uber</td>\n",
       "      <td>2021Q2</td>\n",
       "      <td>CA</td>\n",
       "      <td>6916397.27</td>\n",
       "      <td>2062207.26</td>\n",
       "      <td>257715240.0</td>\n",
       "      <td>0.857478</td>\n",
       "    </tr>\n",
       "  </tbody>\n",
       "</table>\n",
       "</div>"
      ],
      "text/plain": [
       "    MERCHANT QUARTER STATE  ORDER_TOTAL    DISTANCE         TIME    GROWTH\n",
       "469     Uber  2019Q2    CA   7618236.32  3455365.29  516810580.0       NaN\n",
       "521     Uber  2019Q3    CA   8026511.50  3503842.03  518858119.0  0.053592\n",
       "573     Uber  2019Q4    CA   8278948.45  3376067.05  504754620.0  0.031450\n",
       "625     Uber  2020Q1    CA   5855680.46  2356306.46  336966300.0 -0.292702\n",
       "677     Uber  2020Q2    CA   1062224.35   402303.84   48282000.0 -0.818599\n",
       "728     Uber  2020Q3    CA   1867067.73   661996.04   82168140.0  0.757696\n",
       "779     Uber  2020Q4    CA   2397317.68   834636.66  107384580.0  0.284001\n",
       "831     Uber  2021Q1    CA   3723541.64  1229471.88  149938800.0  0.553212\n",
       "883     Uber  2021Q2    CA   6916397.27  2062207.26  257715240.0  0.857478"
      ]
     },
     "execution_count": 95,
     "metadata": {},
     "output_type": "execute_result"
    }
   ],
   "source": [
    "grouped_df[(grouped_df['MERCHANT'] == 'Uber') & (grouped_df['STATE'] == 'CA')]"
   ]
  },
  {
   "cell_type": "code",
   "execution_count": 51,
   "id": "d8b6dab2",
   "metadata": {},
   "outputs": [],
   "source": [
    "grouped_df.to_csv(\"Grouped Data.csv\",index=None)"
   ]
  },
  {
   "cell_type": "code",
   "execution_count": 46,
   "id": "af754211",
   "metadata": {},
   "outputs": [],
   "source": [
    "region_df = grouped_df.groupby(['STATE'])[\"ORDER_TOTAL\"].apply(lambda x : x.sum())"
   ]
  },
  {
   "cell_type": "code",
   "execution_count": 47,
   "id": "aa90057a",
   "metadata": {},
   "outputs": [],
   "source": [
    "region_df = region_df.reset_index()"
   ]
  },
  {
   "cell_type": "code",
   "execution_count": 60,
   "id": "9dd04ee3",
   "metadata": {},
   "outputs": [],
   "source": [
    "x = (grouped_df.groupby(['MERCHANT', 'QUARTER'])['ORDER_TOTAL'].sum())/(grouped_df.groupby('QUARTER')['ORDER_TOTAL'].sum())"
   ]
  },
  {
   "cell_type": "code",
   "execution_count": 59,
   "id": "b648ee0e",
   "metadata": {},
   "outputs": [
    {
     "data": {
      "text/plain": [
       "QUARTER\n",
       "2019Q2    60869779.54\n",
       "2019Q3    60611990.56\n",
       "2019Q4    63182399.79\n",
       "2020Q1    50671648.87\n",
       "2020Q2    11472732.30\n",
       "2020Q3    22969217.88\n",
       "2020Q4    25261859.61\n",
       "2021Q1    27962187.74\n",
       "2021Q2    42159848.73\n",
       "Name: ORDER_TOTAL, dtype: float64"
      ]
     },
     "execution_count": 59,
     "metadata": {},
     "output_type": "execute_result"
    }
   ],
   "source": [
    "grouped_df.groupby('QUARTER')['ORDER_TOTAL'].sum()"
   ]
  },
  {
   "cell_type": "code",
   "execution_count": 61,
   "id": "8a30bb9a",
   "metadata": {},
   "outputs": [],
   "source": [
    "x.to_csv(\"Market_share_revenue.csv\")"
   ]
  },
  {
   "cell_type": "markdown",
   "id": "817d2598",
   "metadata": {},
   "source": [
    "% of revenues = Revenue across all quarter (total) for each region for each company / total revenue of the company"
   ]
  },
  {
   "cell_type": "markdown",
   "id": "2724e251",
   "metadata": {},
   "source": [
    "% Market share "
   ]
  },
  {
   "cell_type": "markdown",
   "id": "a28c48ca",
   "metadata": {},
   "source": [
    "## Market Share Evolution"
   ]
  },
  {
   "cell_type": "code",
   "execution_count": 53,
   "id": "3e8dacc7",
   "metadata": {},
   "outputs": [],
   "source": [
    "region_df['SHARE'] = region_df['ORDER_TOTAL'] / region_df['ORDER_TOTAL'].sum()"
   ]
  },
  {
   "cell_type": "markdown",
   "id": "f95bbe59",
   "metadata": {},
   "source": [
    "Each region, 'ORDER_TOTAL' for the entire time period to get the Market Share in terms of Revenue"
   ]
  },
  {
   "cell_type": "code",
   "execution_count": 54,
   "id": "3bf3c89a",
   "metadata": {},
   "outputs": [
    {
     "data": {
      "text/html": [
       "<div>\n",
       "<style scoped>\n",
       "    .dataframe tbody tr th:only-of-type {\n",
       "        vertical-align: middle;\n",
       "    }\n",
       "\n",
       "    .dataframe tbody tr th {\n",
       "        vertical-align: top;\n",
       "    }\n",
       "\n",
       "    .dataframe thead th {\n",
       "        text-align: right;\n",
       "    }\n",
       "</style>\n",
       "<table border=\"1\" class=\"dataframe\">\n",
       "  <thead>\n",
       "    <tr style=\"text-align: right;\">\n",
       "      <th></th>\n",
       "      <th>STATE</th>\n",
       "      <th>ORDER_TOTAL</th>\n",
       "      <th>SHARE</th>\n",
       "    </tr>\n",
       "  </thead>\n",
       "  <tbody>\n",
       "    <tr>\n",
       "      <th>34</th>\n",
       "      <td>NY</td>\n",
       "      <td>84908803.03</td>\n",
       "      <td>0.232524</td>\n",
       "    </tr>\n",
       "    <tr>\n",
       "      <th>4</th>\n",
       "      <td>CA</td>\n",
       "      <td>73418465.17</td>\n",
       "      <td>0.201057</td>\n",
       "    </tr>\n",
       "    <tr>\n",
       "      <th>9</th>\n",
       "      <td>FL</td>\n",
       "      <td>23673469.40</td>\n",
       "      <td>0.064830</td>\n",
       "    </tr>\n",
       "    <tr>\n",
       "      <th>14</th>\n",
       "      <td>IL</td>\n",
       "      <td>22234457.91</td>\n",
       "      <td>0.060889</td>\n",
       "    </tr>\n",
       "    <tr>\n",
       "      <th>44</th>\n",
       "      <td>TX</td>\n",
       "      <td>21070703.75</td>\n",
       "      <td>0.057702</td>\n",
       "    </tr>\n",
       "    <tr>\n",
       "      <th>31</th>\n",
       "      <td>NJ</td>\n",
       "      <td>13343888.61</td>\n",
       "      <td>0.036542</td>\n",
       "    </tr>\n",
       "    <tr>\n",
       "      <th>19</th>\n",
       "      <td>MA</td>\n",
       "      <td>12883132.01</td>\n",
       "      <td>0.035281</td>\n",
       "    </tr>\n",
       "    <tr>\n",
       "      <th>38</th>\n",
       "      <td>PA</td>\n",
       "      <td>10698690.18</td>\n",
       "      <td>0.029299</td>\n",
       "    </tr>\n",
       "    <tr>\n",
       "      <th>10</th>\n",
       "      <td>GA</td>\n",
       "      <td>10521308.99</td>\n",
       "      <td>0.028813</td>\n",
       "    </tr>\n",
       "    <tr>\n",
       "      <th>7</th>\n",
       "      <td>DC</td>\n",
       "      <td>8238658.19</td>\n",
       "      <td>0.022562</td>\n",
       "    </tr>\n",
       "    <tr>\n",
       "      <th>48</th>\n",
       "      <td>WA</td>\n",
       "      <td>7369672.61</td>\n",
       "      <td>0.020182</td>\n",
       "    </tr>\n",
       "    <tr>\n",
       "      <th>5</th>\n",
       "      <td>CO</td>\n",
       "      <td>7069156.20</td>\n",
       "      <td>0.019359</td>\n",
       "    </tr>\n",
       "    <tr>\n",
       "      <th>46</th>\n",
       "      <td>VA</td>\n",
       "      <td>6589544.82</td>\n",
       "      <td>0.018046</td>\n",
       "    </tr>\n",
       "    <tr>\n",
       "      <th>20</th>\n",
       "      <td>MD</td>\n",
       "      <td>6499687.36</td>\n",
       "      <td>0.017799</td>\n",
       "    </tr>\n",
       "    <tr>\n",
       "      <th>33</th>\n",
       "      <td>NV</td>\n",
       "      <td>5420715.13</td>\n",
       "      <td>0.014845</td>\n",
       "    </tr>\n",
       "    <tr>\n",
       "      <th>3</th>\n",
       "      <td>AZ</td>\n",
       "      <td>5243368.58</td>\n",
       "      <td>0.014359</td>\n",
       "    </tr>\n",
       "    <tr>\n",
       "      <th>43</th>\n",
       "      <td>TN</td>\n",
       "      <td>4414614.49</td>\n",
       "      <td>0.012089</td>\n",
       "    </tr>\n",
       "    <tr>\n",
       "      <th>27</th>\n",
       "      <td>NC</td>\n",
       "      <td>4388934.61</td>\n",
       "      <td>0.012019</td>\n",
       "    </tr>\n",
       "    <tr>\n",
       "      <th>35</th>\n",
       "      <td>OH</td>\n",
       "      <td>3754080.03</td>\n",
       "      <td>0.010281</td>\n",
       "    </tr>\n",
       "    <tr>\n",
       "      <th>18</th>\n",
       "      <td>LA</td>\n",
       "      <td>3431327.71</td>\n",
       "      <td>0.009397</td>\n",
       "    </tr>\n",
       "    <tr>\n",
       "      <th>23</th>\n",
       "      <td>MN</td>\n",
       "      <td>2990083.96</td>\n",
       "      <td>0.008188</td>\n",
       "    </tr>\n",
       "    <tr>\n",
       "      <th>22</th>\n",
       "      <td>MI</td>\n",
       "      <td>2887131.52</td>\n",
       "      <td>0.007906</td>\n",
       "    </tr>\n",
       "    <tr>\n",
       "      <th>37</th>\n",
       "      <td>OR</td>\n",
       "      <td>2878696.96</td>\n",
       "      <td>0.007883</td>\n",
       "    </tr>\n",
       "    <tr>\n",
       "      <th>24</th>\n",
       "      <td>MO</td>\n",
       "      <td>2606507.67</td>\n",
       "      <td>0.007138</td>\n",
       "    </tr>\n",
       "    <tr>\n",
       "      <th>6</th>\n",
       "      <td>CT</td>\n",
       "      <td>2399026.76</td>\n",
       "      <td>0.006570</td>\n",
       "    </tr>\n",
       "    <tr>\n",
       "      <th>41</th>\n",
       "      <td>SC</td>\n",
       "      <td>2066000.83</td>\n",
       "      <td>0.005658</td>\n",
       "    </tr>\n",
       "    <tr>\n",
       "      <th>15</th>\n",
       "      <td>IN</td>\n",
       "      <td>1798520.09</td>\n",
       "      <td>0.004925</td>\n",
       "    </tr>\n",
       "    <tr>\n",
       "      <th>45</th>\n",
       "      <td>UT</td>\n",
       "      <td>1589094.85</td>\n",
       "      <td>0.004352</td>\n",
       "    </tr>\n",
       "    <tr>\n",
       "      <th>49</th>\n",
       "      <td>WI</td>\n",
       "      <td>1531756.20</td>\n",
       "      <td>0.004195</td>\n",
       "    </tr>\n",
       "    <tr>\n",
       "      <th>11</th>\n",
       "      <td>HI</td>\n",
       "      <td>1427837.02</td>\n",
       "      <td>0.003910</td>\n",
       "    </tr>\n",
       "    <tr>\n",
       "      <th>17</th>\n",
       "      <td>KY</td>\n",
       "      <td>1011183.64</td>\n",
       "      <td>0.002769</td>\n",
       "    </tr>\n",
       "    <tr>\n",
       "      <th>36</th>\n",
       "      <td>OK</td>\n",
       "      <td>931502.58</td>\n",
       "      <td>0.002551</td>\n",
       "    </tr>\n",
       "    <tr>\n",
       "      <th>40</th>\n",
       "      <td>RI</td>\n",
       "      <td>722892.64</td>\n",
       "      <td>0.001980</td>\n",
       "    </tr>\n",
       "    <tr>\n",
       "      <th>1</th>\n",
       "      <td>AL</td>\n",
       "      <td>688347.12</td>\n",
       "      <td>0.001885</td>\n",
       "    </tr>\n",
       "    <tr>\n",
       "      <th>16</th>\n",
       "      <td>KS</td>\n",
       "      <td>548641.02</td>\n",
       "      <td>0.001502</td>\n",
       "    </tr>\n",
       "    <tr>\n",
       "      <th>29</th>\n",
       "      <td>NE</td>\n",
       "      <td>428457.96</td>\n",
       "      <td>0.001173</td>\n",
       "    </tr>\n",
       "    <tr>\n",
       "      <th>12</th>\n",
       "      <td>IA</td>\n",
       "      <td>400192.25</td>\n",
       "      <td>0.001096</td>\n",
       "    </tr>\n",
       "    <tr>\n",
       "      <th>2</th>\n",
       "      <td>AR</td>\n",
       "      <td>386028.89</td>\n",
       "      <td>0.001057</td>\n",
       "    </tr>\n",
       "    <tr>\n",
       "      <th>8</th>\n",
       "      <td>DE</td>\n",
       "      <td>353679.11</td>\n",
       "      <td>0.000969</td>\n",
       "    </tr>\n",
       "    <tr>\n",
       "      <th>13</th>\n",
       "      <td>ID</td>\n",
       "      <td>319871.30</td>\n",
       "      <td>0.000876</td>\n",
       "    </tr>\n",
       "    <tr>\n",
       "      <th>32</th>\n",
       "      <td>NM</td>\n",
       "      <td>303929.40</td>\n",
       "      <td>0.000832</td>\n",
       "    </tr>\n",
       "    <tr>\n",
       "      <th>25</th>\n",
       "      <td>MS</td>\n",
       "      <td>276385.71</td>\n",
       "      <td>0.000757</td>\n",
       "    </tr>\n",
       "    <tr>\n",
       "      <th>0</th>\n",
       "      <td>AK</td>\n",
       "      <td>253957.67</td>\n",
       "      <td>0.000695</td>\n",
       "    </tr>\n",
       "    <tr>\n",
       "      <th>21</th>\n",
       "      <td>ME</td>\n",
       "      <td>251664.61</td>\n",
       "      <td>0.000689</td>\n",
       "    </tr>\n",
       "    <tr>\n",
       "      <th>30</th>\n",
       "      <td>NH</td>\n",
       "      <td>220998.18</td>\n",
       "      <td>0.000605</td>\n",
       "    </tr>\n",
       "    <tr>\n",
       "      <th>26</th>\n",
       "      <td>MT</td>\n",
       "      <td>133545.13</td>\n",
       "      <td>0.000366</td>\n",
       "    </tr>\n",
       "    <tr>\n",
       "      <th>28</th>\n",
       "      <td>ND</td>\n",
       "      <td>118885.68</td>\n",
       "      <td>0.000326</td>\n",
       "    </tr>\n",
       "    <tr>\n",
       "      <th>50</th>\n",
       "      <td>WV</td>\n",
       "      <td>118826.40</td>\n",
       "      <td>0.000325</td>\n",
       "    </tr>\n",
       "    <tr>\n",
       "      <th>47</th>\n",
       "      <td>VT</td>\n",
       "      <td>99132.19</td>\n",
       "      <td>0.000271</td>\n",
       "    </tr>\n",
       "    <tr>\n",
       "      <th>39</th>\n",
       "      <td>PR</td>\n",
       "      <td>98192.67</td>\n",
       "      <td>0.000269</td>\n",
       "    </tr>\n",
       "    <tr>\n",
       "      <th>42</th>\n",
       "      <td>SD</td>\n",
       "      <td>77974.27</td>\n",
       "      <td>0.000214</td>\n",
       "    </tr>\n",
       "    <tr>\n",
       "      <th>51</th>\n",
       "      <td>WY</td>\n",
       "      <td>70041.96</td>\n",
       "      <td>0.000192</td>\n",
       "    </tr>\n",
       "  </tbody>\n",
       "</table>\n",
       "</div>"
      ],
      "text/plain": [
       "   STATE  ORDER_TOTAL     SHARE\n",
       "34    NY  84908803.03  0.232524\n",
       "4     CA  73418465.17  0.201057\n",
       "9     FL  23673469.40  0.064830\n",
       "14    IL  22234457.91  0.060889\n",
       "44    TX  21070703.75  0.057702\n",
       "31    NJ  13343888.61  0.036542\n",
       "19    MA  12883132.01  0.035281\n",
       "38    PA  10698690.18  0.029299\n",
       "10    GA  10521308.99  0.028813\n",
       "7     DC   8238658.19  0.022562\n",
       "48    WA   7369672.61  0.020182\n",
       "5     CO   7069156.20  0.019359\n",
       "46    VA   6589544.82  0.018046\n",
       "20    MD   6499687.36  0.017799\n",
       "33    NV   5420715.13  0.014845\n",
       "3     AZ   5243368.58  0.014359\n",
       "43    TN   4414614.49  0.012089\n",
       "27    NC   4388934.61  0.012019\n",
       "35    OH   3754080.03  0.010281\n",
       "18    LA   3431327.71  0.009397\n",
       "23    MN   2990083.96  0.008188\n",
       "22    MI   2887131.52  0.007906\n",
       "37    OR   2878696.96  0.007883\n",
       "24    MO   2606507.67  0.007138\n",
       "6     CT   2399026.76  0.006570\n",
       "41    SC   2066000.83  0.005658\n",
       "15    IN   1798520.09  0.004925\n",
       "45    UT   1589094.85  0.004352\n",
       "49    WI   1531756.20  0.004195\n",
       "11    HI   1427837.02  0.003910\n",
       "17    KY   1011183.64  0.002769\n",
       "36    OK    931502.58  0.002551\n",
       "40    RI    722892.64  0.001980\n",
       "1     AL    688347.12  0.001885\n",
       "16    KS    548641.02  0.001502\n",
       "29    NE    428457.96  0.001173\n",
       "12    IA    400192.25  0.001096\n",
       "2     AR    386028.89  0.001057\n",
       "8     DE    353679.11  0.000969\n",
       "13    ID    319871.30  0.000876\n",
       "32    NM    303929.40  0.000832\n",
       "25    MS    276385.71  0.000757\n",
       "0     AK    253957.67  0.000695\n",
       "21    ME    251664.61  0.000689\n",
       "30    NH    220998.18  0.000605\n",
       "26    MT    133545.13  0.000366\n",
       "28    ND    118885.68  0.000326\n",
       "50    WV    118826.40  0.000325\n",
       "47    VT     99132.19  0.000271\n",
       "39    PR     98192.67  0.000269\n",
       "42    SD     77974.27  0.000214\n",
       "51    WY     70041.96  0.000192"
      ]
     },
     "execution_count": 54,
     "metadata": {},
     "output_type": "execute_result"
    }
   ],
   "source": [
    "region_df.sort_values(['SHARE'], ascending=False)"
   ]
  },
  {
   "cell_type": "code",
   "execution_count": 52,
   "id": "e5c7cd76",
   "metadata": {},
   "outputs": [],
   "source": [
    "region_df.to_csv(\"Region.csv\",index=None)"
   ]
  },
  {
   "cell_type": "markdown",
   "id": "84d74178",
   "metadata": {},
   "source": [
    "Quarterly total revenue of all merchants"
   ]
  },
  {
   "cell_type": "code",
   "execution_count": 52,
   "id": "0ba23261",
   "metadata": {},
   "outputs": [
    {
     "data": {
      "text/plain": [
       "42159848.73"
      ]
     },
     "execution_count": 52,
     "metadata": {},
     "output_type": "execute_result"
    }
   ],
   "source": [
    "df[df['QUARTER'] == '2021Q2']['ORDER_TOTAL'].sum()"
   ]
  },
  {
   "cell_type": "markdown",
   "id": "8fdc67b7",
   "metadata": {},
   "source": [
    "Check"
   ]
  },
  {
   "cell_type": "code",
   "execution_count": 53,
   "id": "f2602ccd",
   "metadata": {},
   "outputs": [
    {
     "data": {
      "text/plain": [
       "42159848.730000004"
      ]
     },
     "execution_count": 53,
     "metadata": {},
     "output_type": "execute_result"
    }
   ],
   "source": [
    "grouped_df[grouped_df['QUARTER'] == '2021Q2']['ORDER_TOTAL'].sum()"
   ]
  },
  {
   "cell_type": "code",
   "execution_count": 54,
   "id": "34170b6d",
   "metadata": {},
   "outputs": [
    {
     "data": {
      "text/plain": [
       "27962187.74000001"
      ]
     },
     "execution_count": 54,
     "metadata": {},
     "output_type": "execute_result"
    }
   ],
   "source": [
    "df[df['QUARTER'] == '2021Q1']['ORDER_TOTAL'].sum()"
   ]
  },
  {
   "cell_type": "code",
   "execution_count": 55,
   "id": "45f17399",
   "metadata": {},
   "outputs": [
    {
     "data": {
      "text/plain": [
       "25261859.609999977"
      ]
     },
     "execution_count": 55,
     "metadata": {},
     "output_type": "execute_result"
    }
   ],
   "source": [
    "df[df['QUARTER'] == '2020Q4']['ORDER_TOTAL'].sum()"
   ]
  },
  {
   "cell_type": "code",
   "execution_count": 56,
   "id": "c386cc82",
   "metadata": {},
   "outputs": [
    {
     "data": {
      "text/plain": [
       "22969217.880000006"
      ]
     },
     "execution_count": 56,
     "metadata": {},
     "output_type": "execute_result"
    }
   ],
   "source": [
    "df[df['QUARTER'] == '2020Q3']['ORDER_TOTAL'].sum()"
   ]
  },
  {
   "cell_type": "code",
   "execution_count": 57,
   "id": "0d43ade9",
   "metadata": {},
   "outputs": [
    {
     "data": {
      "text/plain": [
       "11472732.299999997"
      ]
     },
     "execution_count": 57,
     "metadata": {},
     "output_type": "execute_result"
    }
   ],
   "source": [
    "df[df['QUARTER'] == '2020Q2']['ORDER_TOTAL'].sum()"
   ]
  },
  {
   "cell_type": "code",
   "execution_count": 58,
   "id": "70c7898b",
   "metadata": {},
   "outputs": [
    {
     "data": {
      "text/plain": [
       "50671648.86999998"
      ]
     },
     "execution_count": 58,
     "metadata": {},
     "output_type": "execute_result"
    }
   ],
   "source": [
    "df[df['QUARTER'] == '2020Q1']['ORDER_TOTAL'].sum()"
   ]
  },
  {
   "cell_type": "code",
   "execution_count": 59,
   "id": "0e289b0a",
   "metadata": {},
   "outputs": [
    {
     "data": {
      "text/plain": [
       "63182399.79000009"
      ]
     },
     "execution_count": 59,
     "metadata": {},
     "output_type": "execute_result"
    }
   ],
   "source": [
    "df[df['QUARTER'] == '2019Q4']['ORDER_TOTAL'].sum()"
   ]
  },
  {
   "cell_type": "code",
   "execution_count": 60,
   "id": "cea0b418",
   "metadata": {},
   "outputs": [
    {
     "data": {
      "text/plain": [
       "60611990.56"
      ]
     },
     "execution_count": 60,
     "metadata": {},
     "output_type": "execute_result"
    }
   ],
   "source": [
    "df[df['QUARTER'] == '2019Q3']['ORDER_TOTAL'].sum()"
   ]
  },
  {
   "cell_type": "code",
   "execution_count": 61,
   "id": "56cf08c0",
   "metadata": {},
   "outputs": [
    {
     "data": {
      "text/plain": [
       "60869779.54000004"
      ]
     },
     "execution_count": 61,
     "metadata": {},
     "output_type": "execute_result"
    }
   ],
   "source": [
    "df[df['QUARTER'] == '2019Q2']['ORDER_TOTAL'].sum()"
   ]
  },
  {
   "cell_type": "markdown",
   "id": "a0d22026",
   "metadata": {},
   "source": [
    "Regions Uber doing better than Lyft"
   ]
  },
  {
   "cell_type": "code",
   "execution_count": 100,
   "id": "a982f070",
   "metadata": {},
   "outputs": [
    {
     "data": {
      "text/html": [
       "<div>\n",
       "<style scoped>\n",
       "    .dataframe tbody tr th:only-of-type {\n",
       "        vertical-align: middle;\n",
       "    }\n",
       "\n",
       "    .dataframe tbody tr th {\n",
       "        vertical-align: top;\n",
       "    }\n",
       "\n",
       "    .dataframe thead th {\n",
       "        text-align: right;\n",
       "    }\n",
       "</style>\n",
       "<table border=\"1\" class=\"dataframe\">\n",
       "  <thead>\n",
       "    <tr style=\"text-align: right;\">\n",
       "      <th></th>\n",
       "      <th>MERCHANT</th>\n",
       "      <th>QUARTER</th>\n",
       "      <th>STATE</th>\n",
       "      <th>ORDER_TOTAL</th>\n",
       "      <th>DISTANCE</th>\n",
       "      <th>TIME</th>\n",
       "      <th>GROWTH</th>\n",
       "    </tr>\n",
       "  </thead>\n",
       "  <tbody>\n",
       "    <tr>\n",
       "      <th>0</th>\n",
       "      <td>Juno</td>\n",
       "      <td>2019Q2</td>\n",
       "      <td>CA</td>\n",
       "      <td>5427.95</td>\n",
       "      <td>1506.40</td>\n",
       "      <td>249719.0</td>\n",
       "      <td>NaN</td>\n",
       "    </tr>\n",
       "    <tr>\n",
       "      <th>1</th>\n",
       "      <td>Juno</td>\n",
       "      <td>2019Q2</td>\n",
       "      <td>NY</td>\n",
       "      <td>467341.32</td>\n",
       "      <td>96178.07</td>\n",
       "      <td>23824673.0</td>\n",
       "      <td>NaN</td>\n",
       "    </tr>\n",
       "    <tr>\n",
       "      <th>2</th>\n",
       "      <td>Juno</td>\n",
       "      <td>2019Q3</td>\n",
       "      <td>CA</td>\n",
       "      <td>5904.01</td>\n",
       "      <td>1660.63</td>\n",
       "      <td>259487.0</td>\n",
       "      <td>0.087705</td>\n",
       "    </tr>\n",
       "    <tr>\n",
       "      <th>3</th>\n",
       "      <td>Juno</td>\n",
       "      <td>2019Q3</td>\n",
       "      <td>NY</td>\n",
       "      <td>378102.17</td>\n",
       "      <td>80206.91</td>\n",
       "      <td>19256357.0</td>\n",
       "      <td>-0.190951</td>\n",
       "    </tr>\n",
       "    <tr>\n",
       "      <th>4</th>\n",
       "      <td>Juno</td>\n",
       "      <td>2019Q4</td>\n",
       "      <td>CA</td>\n",
       "      <td>2554.07</td>\n",
       "      <td>733.84</td>\n",
       "      <td>121597.0</td>\n",
       "      <td>-0.567401</td>\n",
       "    </tr>\n",
       "  </tbody>\n",
       "</table>\n",
       "</div>"
      ],
      "text/plain": [
       "  MERCHANT QUARTER STATE  ORDER_TOTAL  DISTANCE        TIME    GROWTH\n",
       "0     Juno  2019Q2    CA      5427.95   1506.40    249719.0       NaN\n",
       "1     Juno  2019Q2    NY    467341.32  96178.07  23824673.0       NaN\n",
       "2     Juno  2019Q3    CA      5904.01   1660.63    259487.0  0.087705\n",
       "3     Juno  2019Q3    NY    378102.17  80206.91  19256357.0 -0.190951\n",
       "4     Juno  2019Q4    CA      2554.07    733.84    121597.0 -0.567401"
      ]
     },
     "execution_count": 100,
     "metadata": {},
     "output_type": "execute_result"
    }
   ],
   "source": [
    "grouped_df.head()"
   ]
  },
  {
   "cell_type": "code",
   "execution_count": 102,
   "id": "285e010a",
   "metadata": {},
   "outputs": [],
   "source": [
    "x = grouped_df.groupby(['MERCHANT', 'STATE'])['ORDER_TOTAL'].sum()"
   ]
  },
  {
   "cell_type": "code",
   "execution_count": 103,
   "id": "e1de13e9",
   "metadata": {},
   "outputs": [],
   "source": [
    "x.to_csv('Geography Analysis.csv')"
   ]
  },
  {
   "cell_type": "markdown",
   "id": "46eabf7d",
   "metadata": {},
   "source": [
    "# # Ride times & Ride Distances"
   ]
  },
  {
   "cell_type": "code",
   "execution_count": 63,
   "id": "7ad6ea2b",
   "metadata": {},
   "outputs": [],
   "source": [
    "fields = ['MERCHANT_NAME', 'TAXI_FARE_TYPE']\n",
    "\n",
    "fare_type = pd.read_csv(r\"C:\\RideShare_Data\\rideshare_data.csv\", skipinitialspace=True, usecols=fields)"
   ]
  },
  {
   "cell_type": "code",
   "execution_count": 107,
   "id": "fa0a43ce",
   "metadata": {},
   "outputs": [
    {
     "data": {
      "text/plain": [
       "array([nan, 'Surge', 'Prime Time', 'High Demand'], dtype=object)"
      ]
     },
     "execution_count": 107,
     "metadata": {},
     "output_type": "execute_result"
    }
   ],
   "source": [
    "fare_type['TAXI_FARE_TYPE'].unique()"
   ]
  },
  {
   "cell_type": "code",
   "execution_count": 115,
   "id": "5c1bdd85",
   "metadata": {},
   "outputs": [
    {
     "data": {
      "text/plain": [
       "0"
      ]
     },
     "execution_count": 115,
     "metadata": {},
     "output_type": "execute_result"
    }
   ],
   "source": [
    "len(fare_type[(fare_type['TAXI_FARE_TYPE'] == 'Surge') & (fare_type['MERCHANT_NAME'] == 'Lyft')])"
   ]
  },
  {
   "cell_type": "code",
   "execution_count": 116,
   "id": "6ecfc0ff",
   "metadata": {},
   "outputs": [
    {
     "data": {
      "text/plain": [
       "13518"
      ]
     },
     "execution_count": 116,
     "metadata": {},
     "output_type": "execute_result"
    }
   ],
   "source": [
    "len(fare_type[(fare_type['TAXI_FARE_TYPE'] == 'Prime Time') & (fare_type['MERCHANT_NAME'] == 'Lyft')])"
   ]
  },
  {
   "cell_type": "code",
   "execution_count": 117,
   "id": "01b71d6b",
   "metadata": {},
   "outputs": [
    {
     "data": {
      "text/plain": [
       "0"
      ]
     },
     "execution_count": 117,
     "metadata": {},
     "output_type": "execute_result"
    }
   ],
   "source": [
    "len(fare_type[(fare_type['TAXI_FARE_TYPE'] == 'High Demand') & (fare_type['MERCHANT_NAME'] == 'Lyft')])"
   ]
  },
  {
   "cell_type": "code",
   "execution_count": 118,
   "id": "1643a10c",
   "metadata": {},
   "outputs": [
    {
     "data": {
      "text/plain": [
       "206064"
      ]
     },
     "execution_count": 118,
     "metadata": {},
     "output_type": "execute_result"
    }
   ],
   "source": [
    "len(fare_type[(fare_type['TAXI_FARE_TYPE'] == 'Surge') & (fare_type['MERCHANT_NAME'] == 'Uber')])"
   ]
  },
  {
   "cell_type": "code",
   "execution_count": 119,
   "id": "36647587",
   "metadata": {},
   "outputs": [
    {
     "data": {
      "text/plain": [
       "0"
      ]
     },
     "execution_count": 119,
     "metadata": {},
     "output_type": "execute_result"
    }
   ],
   "source": [
    "len(fare_type[(fare_type['TAXI_FARE_TYPE'] == 'Prime Time') & (fare_type['MERCHANT_NAME'] == 'Uber')])"
   ]
  },
  {
   "cell_type": "code",
   "execution_count": 120,
   "id": "55dbe481",
   "metadata": {},
   "outputs": [
    {
     "data": {
      "text/plain": [
       "0"
      ]
     },
     "execution_count": 120,
     "metadata": {},
     "output_type": "execute_result"
    }
   ],
   "source": [
    "len(fare_type[(fare_type['TAXI_FARE_TYPE'] == 'High Demand') & (fare_type['MERCHANT_NAME'] == 'Uber')])"
   ]
  },
  {
   "cell_type": "markdown",
   "id": "f3e11f84",
   "metadata": {},
   "source": [
    "## Customer Loyalty"
   ]
  },
  {
   "cell_type": "code",
   "execution_count": 64,
   "id": "a5176cc6",
   "metadata": {},
   "outputs": [],
   "source": [
    "fields = ['MERCHANT_NAME', 'USER_ID', 'ORDER_DATE', 'ORDER_TOTAL']\n",
    "\n",
    "customer = pd.read_csv(r\"C:\\RideShare_Data\\rideshare_data.csv\", skipinitialspace=True, usecols=fields)"
   ]
  },
  {
   "cell_type": "code",
   "execution_count": 65,
   "id": "94cf33f0",
   "metadata": {},
   "outputs": [],
   "source": [
    "customer['QUARTER'] = customer['ORDER_DATE'].apply(lambda x:get_year_quarter(x))"
   ]
  },
  {
   "cell_type": "code",
   "execution_count": 67,
   "id": "44f9c65a",
   "metadata": {},
   "outputs": [],
   "source": [
    "y = customer.groupby(['QUARTER', 'MERCHANT_NAME'])['USER_ID'].count()"
   ]
  },
  {
   "cell_type": "code",
   "execution_count": 11,
   "id": "ff150aef",
   "metadata": {},
   "outputs": [],
   "source": [
    "customer_total = customer.groupby(['USER_ID'])['ORDER_TOTAL'].sum()"
   ]
  },
  {
   "cell_type": "code",
   "execution_count": 6,
   "id": "4c526b5f",
   "metadata": {},
   "outputs": [
    {
     "data": {
      "text/html": [
       "<div>\n",
       "<style scoped>\n",
       "    .dataframe tbody tr th:only-of-type {\n",
       "        vertical-align: middle;\n",
       "    }\n",
       "\n",
       "    .dataframe tbody tr th {\n",
       "        vertical-align: top;\n",
       "    }\n",
       "\n",
       "    .dataframe thead th {\n",
       "        text-align: right;\n",
       "    }\n",
       "</style>\n",
       "<table border=\"1\" class=\"dataframe\">\n",
       "  <thead>\n",
       "    <tr style=\"text-align: right;\">\n",
       "      <th></th>\n",
       "      <th>USER_ID</th>\n",
       "      <th>MERCHANT_NAME</th>\n",
       "      <th>ORDER_DATE</th>\n",
       "      <th>ORDER_TOTAL</th>\n",
       "      <th>QUARTER</th>\n",
       "    </tr>\n",
       "  </thead>\n",
       "  <tbody>\n",
       "    <tr>\n",
       "      <th>0</th>\n",
       "      <td>c913e80c-551a-3311-aa62-826d2ac585a9</td>\n",
       "      <td>Uber</td>\n",
       "      <td>2019-09-28</td>\n",
       "      <td>13.87</td>\n",
       "      <td>2019Q3</td>\n",
       "    </tr>\n",
       "    <tr>\n",
       "      <th>1</th>\n",
       "      <td>31f6474b-49d0-3ec6-9d61-0b1e12af9882</td>\n",
       "      <td>Lyft</td>\n",
       "      <td>2020-10-22</td>\n",
       "      <td>8.60</td>\n",
       "      <td>2020Q4</td>\n",
       "    </tr>\n",
       "    <tr>\n",
       "      <th>2</th>\n",
       "      <td>bd9b6bca-fabc-33a0-9088-8d6c137c4d97</td>\n",
       "      <td>Uber</td>\n",
       "      <td>2020-10-29</td>\n",
       "      <td>10.44</td>\n",
       "      <td>2020Q4</td>\n",
       "    </tr>\n",
       "    <tr>\n",
       "      <th>3</th>\n",
       "      <td>7f949e51-575f-3ea3-9ab3-409faec2fe65</td>\n",
       "      <td>Lyft</td>\n",
       "      <td>2019-08-20</td>\n",
       "      <td>0.00</td>\n",
       "      <td>2019Q3</td>\n",
       "    </tr>\n",
       "    <tr>\n",
       "      <th>4</th>\n",
       "      <td>bce7f327-0b99-358f-a63a-d7774c3208ab</td>\n",
       "      <td>Lyft</td>\n",
       "      <td>2020-03-17</td>\n",
       "      <td>11.72</td>\n",
       "      <td>2020Q1</td>\n",
       "    </tr>\n",
       "  </tbody>\n",
       "</table>\n",
       "</div>"
      ],
      "text/plain": [
       "                                USER_ID MERCHANT_NAME  ORDER_DATE  \\\n",
       "0  c913e80c-551a-3311-aa62-826d2ac585a9          Uber  2019-09-28   \n",
       "1  31f6474b-49d0-3ec6-9d61-0b1e12af9882          Lyft  2020-10-22   \n",
       "2  bd9b6bca-fabc-33a0-9088-8d6c137c4d97          Uber  2020-10-29   \n",
       "3  7f949e51-575f-3ea3-9ab3-409faec2fe65          Lyft  2019-08-20   \n",
       "4  bce7f327-0b99-358f-a63a-d7774c3208ab          Lyft  2020-03-17   \n",
       "\n",
       "   ORDER_TOTAL QUARTER  \n",
       "0        13.87  2019Q3  \n",
       "1         8.60  2020Q4  \n",
       "2        10.44  2020Q4  \n",
       "3         0.00  2019Q3  \n",
       "4        11.72  2020Q1  "
      ]
     },
     "execution_count": 6,
     "metadata": {},
     "output_type": "execute_result"
    }
   ],
   "source": [
    "customer.head()"
   ]
  },
  {
   "cell_type": "code",
   "execution_count": 131,
   "id": "40e90efb",
   "metadata": {},
   "outputs": [
    {
     "data": {
      "text/plain": [
       "(21078051, 4)"
      ]
     },
     "execution_count": 131,
     "metadata": {},
     "output_type": "execute_result"
    }
   ],
   "source": [
    "customer.shape"
   ]
  },
  {
   "cell_type": "code",
   "execution_count": 132,
   "id": "1f13b785",
   "metadata": {},
   "outputs": [
    {
     "data": {
      "text/plain": [
       "781846"
      ]
     },
     "execution_count": 132,
     "metadata": {},
     "output_type": "execute_result"
    }
   ],
   "source": [
    "len(customer['USER_ID'].unique())"
   ]
  },
  {
   "cell_type": "markdown",
   "id": "33533361",
   "metadata": {},
   "source": [
    "Unique Customers plot"
   ]
  },
  {
   "cell_type": "code",
   "execution_count": 134,
   "id": "2b6c38b4",
   "metadata": {},
   "outputs": [],
   "source": [
    "unique_users = []\n",
    "\n",
    "for quarter in sorted(df['QUARTER'].unique()):\n",
    "    unique_users.append(len(customer[customer['QUARTER'] == quarter]['USER_ID'].unique()))"
   ]
  },
  {
   "cell_type": "code",
   "execution_count": 158,
   "id": "6bb916c4",
   "metadata": {},
   "outputs": [
    {
     "data": {
      "image/png": "[encoded data removed]",
      "text/plain": [
       "<Figure size 720x432 with 1 Axes>"
      ]
     },
     "metadata": {
      "needs_background": "light"
     },
     "output_type": "display_data"
    }
   ],
   "source": [
    "arr = customer['QUARTER'].unique()\n",
    "\n",
    "plt.figure(figsize=(10,6))\n",
    "plt.plot(arr, unique_users)\n",
    "plt.xlabel('Quarter')\n",
    "plt.ylabel('Unique Customer')\n",
    "plt.show()"
   ]
  },
  {
   "cell_type": "markdown",
   "id": "683b5306",
   "metadata": {},
   "source": [
    "### Customer Retention"
   ]
  },
  {
   "cell_type": "markdown",
   "id": "adc23ded",
   "metadata": {},
   "source": [
    "Say for company Uber in quarter the [customers] are:\n",
    "- 2021Q1 [a.c.d.e] NaN\n",
    "- 2021Q2 [b,d,e,f] len(intersection)/len(previous row) = 2/4\n",
    "- 2021Q3 [f,g,b]"
   ]
  },
  {
   "cell_type": "markdown",
   "id": "7f669557",
   "metadata": {},
   "source": [
    "Retention ratio from the previous quarter"
   ]
  },
  {
   "cell_type": "code",
   "execution_count": 160,
   "id": "99751478",
   "metadata": {},
   "outputs": [
    {
     "name": "stdout",
     "output_type": "stream",
     "text": [
      "Working on merchant:  Uber\n",
      "Working on quarter:  2019Q3\n",
      "Working on quarter:  2019Q4\n",
      "Working on quarter:  2020Q1\n",
      "Working on quarter:  2020Q2\n",
      "Working on quarter:  2020Q3\n",
      "Working on quarter:  2020Q4\n",
      "Working on quarter:  2021Q1\n",
      "Working on quarter:  2021Q2\n",
      "Working on merchant:  Lyft\n",
      "Working on quarter:  2019Q3\n",
      "Working on quarter:  2019Q4\n",
      "Working on quarter:  2020Q1\n",
      "Working on quarter:  2020Q2\n",
      "Working on quarter:  2020Q3\n",
      "Working on quarter:  2020Q4\n",
      "Working on quarter:  2021Q1\n",
      "Working on quarter:  2021Q2\n",
      "Working on merchant:  VIA\n",
      "Working on quarter:  2019Q3\n",
      "Working on quarter:  2019Q4\n",
      "Working on quarter:  2020Q1\n",
      "Working on quarter:  2020Q2\n",
      "Working on quarter:  2020Q3\n",
      "Working on quarter:  2020Q4\n",
      "Working on quarter:  2021Q1\n",
      "Working on quarter:  2021Q2\n",
      "Working on merchant:  Juno\n",
      "Working on quarter:  2019Q3\n",
      "Working on quarter:  2019Q4\n"
     ]
    }
   ],
   "source": [
    "retentions = {}\n",
    "\n",
    "for merchant in customer['MERCHANT_NAME'].unique():\n",
    "    print(\"Working on merchant: \",merchant)\n",
    "    change = []\n",
    "    quarters = sorted(customer[customer['MERCHANT_NAME'] == merchant]['QUARTER'].unique())\n",
    "    change.append(0)\n",
    "    idx = 1\n",
    "    while idx < len(quarters):\n",
    "        print(\"Working on quarter: \", quarters[idx])\n",
    "        prev_quarter = list(customer[(customer['MERCHANT_NAME'] == merchant) & (customer['QUARTER'] == quarters[idx-1])]['USER_ID'])\n",
    "        current_quarter = list(customer[(customer['MERCHANT_NAME'] == merchant) & (customer['QUARTER'] == quarters[idx])]['USER_ID'])\n",
    "        num_intersections = len(set(prev_quarter).intersection(current_quarter))\n",
    "        retention_percent = num_intersections / len(prev_quarter)\n",
    "        change.append(retention_percent)\n",
    "        idx += 1\n",
    "    retentions[merchant] = change"
   ]
  },
  {
   "cell_type": "code",
   "execution_count": 161,
   "id": "189dcb4c",
   "metadata": {},
   "outputs": [
    {
     "data": {
      "text/plain": [
       "{'Uber': [0,\n",
       "  0.07648434851633579,\n",
       "  0.07728083916722392,\n",
       "  0.06927869839326263,\n",
       "  0.028679671296174748,\n",
       "  0.12296936689502348,\n",
       "  0.09800215362623911,\n",
       "  0.08952421877201386,\n",
       "  0.1009586830027629],\n",
       " 'Lyft': [0,\n",
       "  0.0843397857363586,\n",
       "  0.08929869343418101,\n",
       "  0.08629511454173752,\n",
       "  0.03052955079620778,\n",
       "  0.11802654034014005,\n",
       "  0.09559171203064948,\n",
       "  0.0906945544776454,\n",
       "  0.10569057421532194],\n",
       " 'VIA': [0,\n",
       "  0.06614631325997795,\n",
       "  0.06526604159432033,\n",
       "  0.059330819981149856,\n",
       "  0.014546491728465488,\n",
       "  0.11627252252252253,\n",
       "  0.10361200610479905,\n",
       "  0.09054777950578884,\n",
       "  0.10028949545078578],\n",
       " 'Juno': [0, 0.08468318796437306, 0.07392531480677378]}"
      ]
     },
     "execution_count": 161,
     "metadata": {},
     "output_type": "execute_result"
    }
   ],
   "source": [
    "retentions"
   ]
  },
  {
   "cell_type": "markdown",
   "id": "78d69742",
   "metadata": {},
   "source": [
    "Cross-app usage"
   ]
  },
  {
   "cell_type": "code",
   "execution_count": 162,
   "id": "d0a3b469",
   "metadata": {},
   "outputs": [
    {
     "data": {
      "text/plain": [
       "20296205"
      ]
     },
     "execution_count": 162,
     "metadata": {},
     "output_type": "execute_result"
    }
   ],
   "source": [
    "customer.USER_ID.duplicated().sum()"
   ]
  },
  {
   "cell_type": "markdown",
   "id": "3c42e6e2",
   "metadata": {},
   "source": [
    "Using a pivot table to get the number of customers (same USER_ID) in both Uber and Lyft"
   ]
  },
  {
   "cell_type": "code",
   "execution_count": 180,
   "id": "07eaf2a6",
   "metadata": {},
   "outputs": [],
   "source": [
    "cross_app = customer.pivot_table(index = ['USER_ID', 'MERCHANT_NAME'], aggfunc ='size')"
   ]
  },
  {
   "cell_type": "code",
   "execution_count": 181,
   "id": "48683563",
   "metadata": {},
   "outputs": [],
   "source": [
    "cross_app.to_csv(\"Cross App usage.csv\")"
   ]
  },
  {
   "cell_type": "markdown",
   "id": "3c6b8b57",
   "metadata": {},
   "source": [
    "Using regex to get UberEats from the Description column in Items_data dataset"
   ]
  },
  {
   "cell_type": "code",
   "execution_count": 69,
   "id": "e683d4f2",
   "metadata": {},
   "outputs": [],
   "source": [
    "fields = ['MERCHANT_NAME', 'DESCRIPTION', 'ORDER_TOTAL']\n",
    "\n",
    "items_data = pd.read_csv(\"C:\\RideShare_Data\\items_data.csv\", skipinitialspace=True, usecols=fields).dropna()"
   ]
  },
  {
   "cell_type": "code",
   "execution_count": 71,
   "id": "658b579f",
   "metadata": {},
   "outputs": [],
   "source": [
    "searchfor = ['UberEATS', 'UberEats']\n",
    "\n",
    "z = items_data[items_data['DESCRIPTION'].str.contains('|'.join(searchfor))]"
   ]
  },
  {
   "cell_type": "code",
   "execution_count": 72,
   "id": "1b2dc9a8",
   "metadata": {},
   "outputs": [],
   "source": [
    "z.to_csv(\"UberEats.csv\")"
   ]
  },
  {
   "cell_type": "code",
   "execution_count": 73,
   "id": "11b8d8c3",
   "metadata": {},
   "outputs": [],
   "source": [
    "fields = ['MERCHANT_NAME', 'ORDER_DATE']\n",
    "\n",
    "cancel_data = pd.read_csv(\"C:\\RideShare_Data\\cancelations_data.csv\", skipinitialspace=True, usecols=fields)"
   ]
  },
  {
   "cell_type": "code",
   "execution_count": 74,
   "id": "95cfcd33",
   "metadata": {},
   "outputs": [],
   "source": [
    "cancel_data['QUARTER'] = cancel_data['ORDER_DATE'].apply(lambda x:get_year_quarter(x))"
   ]
  },
  {
   "cell_type": "code",
   "execution_count": 6,
   "id": "d1817663",
   "metadata": {},
   "outputs": [
    {
     "data": {
      "text/html": [
       "<div>\n",
       "<style scoped>\n",
       "    .dataframe tbody tr th:only-of-type {\n",
       "        vertical-align: middle;\n",
       "    }\n",
       "\n",
       "    .dataframe tbody tr th {\n",
       "        vertical-align: top;\n",
       "    }\n",
       "\n",
       "    .dataframe thead th {\n",
       "        text-align: right;\n",
       "    }\n",
       "</style>\n",
       "<table border=\"1\" class=\"dataframe\">\n",
       "  <thead>\n",
       "    <tr style=\"text-align: right;\">\n",
       "      <th></th>\n",
       "      <th>MERCHANT_NAME</th>\n",
       "      <th>ORDER_DATE</th>\n",
       "      <th>QUARTER</th>\n",
       "    </tr>\n",
       "  </thead>\n",
       "  <tbody>\n",
       "    <tr>\n",
       "      <th>0</th>\n",
       "      <td>Lyft Cancellation</td>\n",
       "      <td>2020-07-09</td>\n",
       "      <td>2020Q3</td>\n",
       "    </tr>\n",
       "    <tr>\n",
       "      <th>1</th>\n",
       "      <td>Uber Cancellation</td>\n",
       "      <td>2020-11-23</td>\n",
       "      <td>2020Q4</td>\n",
       "    </tr>\n",
       "    <tr>\n",
       "      <th>2</th>\n",
       "      <td>Uber Cancellation</td>\n",
       "      <td>2019-07-19</td>\n",
       "      <td>2019Q3</td>\n",
       "    </tr>\n",
       "    <tr>\n",
       "      <th>3</th>\n",
       "      <td>Uber Cancellation</td>\n",
       "      <td>2020-06-20</td>\n",
       "      <td>2020Q2</td>\n",
       "    </tr>\n",
       "    <tr>\n",
       "      <th>4</th>\n",
       "      <td>Uber Cancellation</td>\n",
       "      <td>2019-11-11</td>\n",
       "      <td>2019Q4</td>\n",
       "    </tr>\n",
       "    <tr>\n",
       "      <th>...</th>\n",
       "      <td>...</td>\n",
       "      <td>...</td>\n",
       "      <td>...</td>\n",
       "    </tr>\n",
       "    <tr>\n",
       "      <th>537346</th>\n",
       "      <td>Uber Cancellation</td>\n",
       "      <td>2019-04-06</td>\n",
       "      <td>2019Q2</td>\n",
       "    </tr>\n",
       "    <tr>\n",
       "      <th>537347</th>\n",
       "      <td>Lyft Cancellation</td>\n",
       "      <td>2020-05-31</td>\n",
       "      <td>2020Q2</td>\n",
       "    </tr>\n",
       "    <tr>\n",
       "      <th>537348</th>\n",
       "      <td>Uber Cancellation</td>\n",
       "      <td>2021-04-19</td>\n",
       "      <td>2021Q2</td>\n",
       "    </tr>\n",
       "    <tr>\n",
       "      <th>537349</th>\n",
       "      <td>Uber Cancellation</td>\n",
       "      <td>2019-09-30</td>\n",
       "      <td>2019Q3</td>\n",
       "    </tr>\n",
       "    <tr>\n",
       "      <th>537350</th>\n",
       "      <td>Uber Cancellation</td>\n",
       "      <td>2019-09-06</td>\n",
       "      <td>2019Q3</td>\n",
       "    </tr>\n",
       "  </tbody>\n",
       "</table>\n",
       "<p>537351 rows × 3 columns</p>\n",
       "</div>"
      ],
      "text/plain": [
       "            MERCHANT_NAME  ORDER_DATE QUARTER\n",
       "0       Lyft Cancellation  2020-07-09  2020Q3\n",
       "1       Uber Cancellation  2020-11-23  2020Q4\n",
       "2       Uber Cancellation  2019-07-19  2019Q3\n",
       "3       Uber Cancellation  2020-06-20  2020Q2\n",
       "4       Uber Cancellation  2019-11-11  2019Q4\n",
       "...                   ...         ...     ...\n",
       "537346  Uber Cancellation  2019-04-06  2019Q2\n",
       "537347  Lyft Cancellation  2020-05-31  2020Q2\n",
       "537348  Uber Cancellation  2021-04-19  2021Q2\n",
       "537349  Uber Cancellation  2019-09-30  2019Q3\n",
       "537350  Uber Cancellation  2019-09-06  2019Q3\n",
       "\n",
       "[537351 rows x 3 columns]"
      ]
     },
     "execution_count": 6,
     "metadata": {},
     "output_type": "execute_result"
    }
   ],
   "source": [
    "cancel_data"
   ]
  },
  {
   "cell_type": "code",
   "execution_count": 75,
   "id": "ff6a7728",
   "metadata": {},
   "outputs": [],
   "source": [
    "cancel_data['MERCHANT_NAME'] = cancel_data['MERCHANT_NAME'].str.split(' ').str[0]"
   ]
  },
  {
   "cell_type": "code",
   "execution_count": 76,
   "id": "f5d7e5a3",
   "metadata": {},
   "outputs": [
    {
     "data": {
      "text/plain": [
       "Uber    365904\n",
       "Lyft    171447\n",
       "Name: MERCHANT_NAME, dtype: int64"
      ]
     },
     "execution_count": 76,
     "metadata": {},
     "output_type": "execute_result"
    }
   ],
   "source": [
    "cancel_data['MERCHANT_NAME'].value_counts()"
   ]
  },
  {
   "cell_type": "code",
   "execution_count": 77,
   "id": "1c3c7d1f",
   "metadata": {},
   "outputs": [
    {
     "data": {
      "text/plain": [
       "2019Q4    94338\n",
       "2019Q2    89925\n",
       "2019Q3    86391\n",
       "2020Q1    70246\n",
       "2021Q2    59719\n",
       "2021Q1    40973\n",
       "2020Q3    37741\n",
       "2020Q4    36400\n",
       "2020Q2    21618\n",
       "Name: QUARTER, dtype: int64"
      ]
     },
     "execution_count": 77,
     "metadata": {},
     "output_type": "execute_result"
    }
   ],
   "source": [
    "cancel_data['QUARTER'].value_counts()"
   ]
  },
  {
   "cell_type": "code",
   "execution_count": 80,
   "id": "4dd353de",
   "metadata": {},
   "outputs": [],
   "source": [
    "a = cancel_data.groupby(['MERCHANT_NAME', 'QUARTER']).count()"
   ]
  },
  {
   "cell_type": "code",
   "execution_count": null,
   "id": "1c80cf22",
   "metadata": {},
   "outputs": [],
   "source": []
  }
 ],
 "metadata": {
  "kernelspec": {
   "display_name": "Python 3 (ipykernel)",
   "language": "python",
   "name": "python3"
  },
  "language_info": {
   "codemirror_mode": {
    "name": "ipython",
    "version": 3
   },
   "file_extension": ".py",
   "mimetype": "text/x-python",
   "name": "python",
   "nbconvert_exporter": "python",
   "pygments_lexer": "ipython3",
   "version": "3.9.12"
  }
 },
 "nbformat": 4,
 "nbformat_minor": 5
}
